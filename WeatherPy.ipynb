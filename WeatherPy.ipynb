{
 "cells": [
  {
   "cell_type": "markdown",
   "metadata": {
    "id": "JM1f_br-7VCw"
   },
   "source": [
    "# WeatherPy\n",
    "----\n",
    "\n",
    "#### Note\n",
    "* Instructions have been included for each segment. You do not have to follow them exactly, but they are included to help you think through the steps."
   ]
  },
  {
   "cell_type": "code",
   "execution_count": 1,
   "metadata": {
    "colab": {
     "base_uri": "https://localhost:8080/",
     "height": 373
    },
    "id": "i5dxZ4OX7VC0",
    "outputId": "07b8e7fb-b76f-4ad4-daee-2abce0b93c9f",
    "scrolled": true
   },
   "outputs": [],
   "source": [
    "# Dependencies and Setup\n",
    "import matplotlib.pyplot as plt\n",
    "import pandas as pd\n",
    "import numpy as np\n",
    "import requests\n",
    "import time\n",
    "from scipy.stats import linregress\n",
    "from api_keys import weather_api_key, g_key\n",
    "\n",
    "# Import API key\n",
    "#from api_keys import \n",
    "# Incorporated citipy to determine city based on latitude and longitude\n",
    "from citipy import citipy\n",
    "\n",
    "# Output File (CSV)\n",
    "output_data_file = \"output_data/cities.csv\"\n",
    "\n",
    "# Range of latitudes and longitudes\n",
    "lat_range = (-90, 90)\n",
    "lng_range = (-180, 180)"
   ]
  },
  {
   "cell_type": "markdown",
   "metadata": {
    "id": "rf6ePlia7VC2"
   },
   "source": [
    "## Generate Cities List"
   ]
  },
  {
   "cell_type": "code",
   "execution_count": 2,
   "metadata": {
    "colab": {
     "base_uri": "https://localhost:8080/"
    },
    "id": "WSC9220F7VC2",
    "outputId": "fbf9a1a4-311e-4838-86f4-eb87a3da1de7"
   },
   "outputs": [
    {
     "data": {
      "text/plain": [
       "588"
      ]
     },
     "execution_count": 2,
     "metadata": {},
     "output_type": "execute_result"
    }
   ],
   "source": [
    "# List for holding lat_lngs and cities\n",
    "lat_lngs = []\n",
    "cities = []\n",
    "\n",
    "# Create a set of random lat and lng combinations\n",
    "lats = np.random.uniform(lat_range[0], lat_range[1], size=1500)\n",
    "lngs = np.random.uniform(lng_range[0], lng_range[1], size=1500)\n",
    "lat_lngs = zip(lats, lngs)\n",
    "\n",
    "# Identify nearest city for each lat, lng combination\n",
    "for lat_lng in lat_lngs:\n",
    "    city = citipy.nearest_city(lat_lng[0], lat_lng[1]).city_name\n",
    "    \n",
    "    # If the city is unique, then add it to a our cities list\n",
    "    if city not in cities:\n",
    "        cities.append(city)\n",
    "\n",
    "# Print the city count to confirm sufficient count\n",
    "len(cities)"
   ]
  },
  {
   "cell_type": "markdown",
   "metadata": {
    "id": "YAbLGAQ87VC4"
   },
   "source": [
    "### Perform API Calls\n",
    "* Perform a weather check on each city using a series of successive API calls.\n",
    "* Include a print log of each city as it'sbeing processed (with the city number and city name).\n"
   ]
  },
  {
   "cell_type": "code",
   "execution_count": 3,
   "metadata": {
    "colab": {
     "base_uri": "https://localhost:8080/"
    },
    "id": "sUzGW7eGnIEP",
    "outputId": "76760d5c-7b3f-4561-de43-4b410edd2969"
   },
   "outputs": [
    {
     "name": "stdout",
     "output_type": "stream",
     "text": [
      "(Processing Record 1 of set 0 | mataura)\n",
      "(Processing Record 2 of set 0 | zhigansk)\n",
      "(Processing Record 3 of set 0 | butaritari)\n",
      "(Processing Record 4 of set 0 | punta arenas)\n",
      "(Processing Record 5 of set 0 | rikitea)\n",
      "(Processing Record 6 of set 0 | bengkulu)\n",
      "(Processing Record 7 of set 0 | port alfred)\n",
      "(Processing Record 8 of set 0 | yining)\n",
      "(Processing Record 9 of set 0 | arraial do cabo)\n",
      "(Processing Record 10 of set 0 | gimbi)\n",
      "(Processing Record 11 of set 0 | kaitangata)\n",
      "(Processing Record 12 of set 0 | borogontsy)\n",
      "(Processing Record 13 of set 0 | atuona)\n",
      "(Processing Record 14 of set 0 | kanniyakumari)\n",
      "(Processing Record 15 of set 0 | henties bay)\n",
      "(Processing Record 16 of set 0 | vaitupu)\n",
      "(Processing Record 17 of set 0 | hobart)\n",
      "(Processing Record 18 of set 0 | vityazevo)\n",
      "(Processing Record 19 of set 0 | cape town)\n",
      "(Processing Record 20 of set 0 | hervey bay)\n",
      "(Processing Record 21 of set 0 | sao filipe)\n",
      "(Processing Record 22 of set 0 | balsta)\n",
      "(Processing Record 23 of set 0 | tura)\n",
      "(Processing Record 24 of set 0 | coquimbo)\n",
      "(Processing Record 25 of set 0 | illoqqortoormiut)\n",
      "(Processing Record 26 of set 0 | tuatapere)\n",
      "(Processing Record 27 of set 0 | hilo)\n",
      "(Processing Record 28 of set 0 | saskylakh)\n",
      "(Processing Record 29 of set 0 | contai)\n",
      "(Processing Record 30 of set 0 | lebu)\n",
      "(Processing Record 31 of set 0 | busselton)\n",
      "(Processing Record 32 of set 0 | bolungarvik)\n",
      "(Processing Record 33 of set 0 | iqaluit)\n",
      "(Processing Record 34 of set 0 | port said)\n",
      "(Processing Record 35 of set 0 | ushuaia)\n",
      "(Processing Record 36 of set 0 | aklavik)\n",
      "(Processing Record 37 of set 0 | upernavik)\n",
      "(Processing Record 38 of set 0 | lazaro cardenas)\n",
      "City not found. Skipping...\n",
      "(Processing Record 39 of set 0 | sechura)\n",
      "(Processing Record 40 of set 0 | sawtell)\n",
      "(Processing Record 41 of set 0 | mahajanga)\n",
      "(Processing Record 42 of set 0 | pictou)\n",
      "(Processing Record 43 of set 0 | saldanha)\n",
      "(Processing Record 44 of set 0 | hermanus)\n",
      "(Processing Record 45 of set 0 | kazalinsk)\n",
      "(Processing Record 46 of set 0 | hasaki)\n",
      "(Processing Record 47 of set 0 | vaini)\n",
      "(Processing Record 48 of set 0 | bluff)\n",
      "City not found. Skipping...\n",
      "(Processing Record 49 of set 0 | tasiilaq)\n",
      "(Processing Record 50 of set 0 | coahuayana)\n",
      "(Processing Record 51 of set 0 | narsaq)\n",
      "(Processing Record 52 of set 0 | ponta delgada)\n",
      "(Processing Record 53 of set 0 | albany)\n",
      "(Processing Record 54 of set 0 | lagoa)\n",
      "(Processing Record 55 of set 0 | hithadhoo)\n",
      "(Processing Record 56 of set 0 | xuddur)\n",
      "(Processing Record 57 of set 0 | bethel)\n",
      "(Processing Record 58 of set 0 | puerto ayora)\n",
      "(Processing Record 59 of set 0 | kapaa)\n",
      "(Processing Record 60 of set 0 | sambava)\n",
      "(Processing Record 61 of set 0 | florianopolis)\n",
      "(Processing Record 62 of set 0 | sosua)\n",
      "(Processing Record 63 of set 0 | jamestown)\n",
      "(Processing Record 64 of set 0 | katsuura)\n",
      "(Processing Record 65 of set 0 | gladstone)\n",
      "(Processing Record 66 of set 0 | taolanaro)\n",
      "(Processing Record 67 of set 0 | itarema)\n",
      "(Processing Record 68 of set 0 | xixiang)\n",
      "(Processing Record 69 of set 0 | tsihombe)\n",
      "(Processing Record 70 of set 0 | sarangani)\n",
      "(Processing Record 71 of set 0 | tuktoyaktuk)\n",
      "(Processing Record 72 of set 0 | kostroma)\n",
      "(Processing Record 73 of set 0 | sorland)\n",
      "(Processing Record 74 of set 0 | barentsburg)\n",
      "(Processing Record 75 of set 0 | lavrentiya)\n",
      "(Processing Record 76 of set 0 | tumannyy)\n",
      "(Processing Record 77 of set 0 | torbay)\n",
      "(Processing Record 78 of set 0 | sehwan)\n",
      "(Processing Record 79 of set 0 | cherskiy)\n",
      "(Processing Record 80 of set 0 | ekibastuz)\n",
      "(Processing Record 81 of set 0 | mar del plata)\n",
      "(Processing Record 82 of set 0 | taranagar)\n",
      "(Processing Record 83 of set 0 | xining)\n",
      "(Processing Record 84 of set 0 | port shepstone)\n",
      "(Processing Record 85 of set 0 | telma)\n",
      "(Processing Record 86 of set 0 | amahai)\n",
      "(Processing Record 87 of set 0 | powell)\n",
      "City not found. Skipping...\n",
      "(Processing Record 88 of set 0 | thompson)\n",
      "(Processing Record 89 of set 0 | gushikawa)\n",
      "City not found. Skipping...\n",
      "(Processing Record 90 of set 0 | cockburn town)\n",
      "(Processing Record 91 of set 0 | mahebourg)\n",
      "(Processing Record 92 of set 0 | thano bula khan)\n",
      "(Processing Record 93 of set 0 | caravelas)\n",
      "(Processing Record 94 of set 0 | faanui)\n",
      "(Processing Record 95 of set 0 | margate)\n",
      "(Processing Record 96 of set 0 | sembe)\n",
      "(Processing Record 97 of set 0 | cidreira)\n",
      "(Processing Record 98 of set 0 | kiama)\n",
      "(Processing Record 99 of set 0 | komsomolskiy)\n",
      "(Processing Record 100 of set 0 | airai)\n",
      "(Processing Record 101 of set 0 | saleaula)\n",
      "(Processing Record 102 of set 0 | vozhega)\n",
      "(Processing Record 103 of set 0 | ahipara)\n",
      "(Processing Record 104 of set 0 | port hardy)\n",
      "(Processing Record 105 of set 0 | buraydah)\n",
      "(Processing Record 106 of set 0 | vila velha)\n",
      "(Processing Record 107 of set 0 | kavaratti)\n",
      "(Processing Record 108 of set 0 | pevek)\n",
      "(Processing Record 109 of set 0 | saint-augustin)\n",
      "City not found. Skipping...\n",
      "(Processing Record 110 of set 0 | constancia)\n",
      "City not found. Skipping...\n",
      "(Processing Record 111 of set 0 | longyearbyen)\n",
      "(Processing Record 112 of set 0 | felipe carrillo puerto)\n",
      "(Processing Record 113 of set 0 | dongsheng)\n",
      "(Processing Record 114 of set 0 | port elizabeth)\n",
      "(Processing Record 115 of set 0 | itagi)\n",
      "(Processing Record 116 of set 0 | alta floresta)\n",
      "(Processing Record 117 of set 0 | klaksvik)\n",
      "(Processing Record 118 of set 0 | kununurra)\n",
      "(Processing Record 119 of set 0 | nyazepetrovsk)\n",
      "(Processing Record 120 of set 0 | norman wells)\n",
      "(Processing Record 121 of set 0 | taft)\n",
      "City not found. Skipping...\n",
      "(Processing Record 122 of set 0 | altay)\n",
      "City not found. Skipping...\n",
      "(Processing Record 123 of set 0 | conakry)\n",
      "(Processing Record 124 of set 0 | omsukchan)\n",
      "(Processing Record 125 of set 0 | haines junction)\n",
      "(Processing Record 126 of set 0 | ngukurr)\n",
      "(Processing Record 127 of set 0 | ola)\n",
      "City not found. Skipping...\n",
      "(Processing Record 128 of set 0 | gashua)\n",
      "(Processing Record 129 of set 0 | nikolskoye)\n",
      "City not found. Skipping...\n",
      "(Processing Record 130 of set 0 | galveston)\n",
      "(Processing Record 131 of set 0 | mandla)\n",
      "(Processing Record 132 of set 0 | venado tuerto)\n",
      "(Processing Record 133 of set 0 | pala)\n",
      "(Processing Record 134 of set 0 | bredasdorp)\n",
      "(Processing Record 135 of set 0 | fevralsk)\n",
      "(Processing Record 136 of set 0 | tiksi)\n",
      "(Processing Record 137 of set 0 | zyryanka)\n",
      "(Processing Record 138 of set 0 | khatanga)\n",
      "(Processing Record 139 of set 0 | le port)\n",
      "(Processing Record 140 of set 0 | saint-philippe)\n",
      "(Processing Record 141 of set 0 | bonavista)\n",
      "(Processing Record 142 of set 0 | ribeira grande)\n",
      "(Processing Record 143 of set 0 | moron)\n",
      "City not found. Skipping...\n",
      "(Processing Record 144 of set 0 | biltine)\n",
      "(Processing Record 145 of set 0 | ostrovnoy)\n",
      "(Processing Record 146 of set 0 | carnarvon)\n",
      "(Processing Record 147 of set 0 | georgetown)\n",
      "(Processing Record 148 of set 0 | biggar)\n",
      "(Processing Record 149 of set 0 | praia da vitoria)\n",
      "(Processing Record 150 of set 0 | bathsheba)\n",
      "City not found. Skipping...\n",
      "(Processing Record 151 of set 0 | mamburao)\n",
      "(Processing Record 152 of set 0 | castro)\n",
      "City not found. Skipping...\n",
      "(Processing Record 153 of set 0 | lata)\n",
      "City not found. Skipping...\n",
      "(Processing Record 154 of set 0 | yellowknife)\n",
      "(Processing Record 155 of set 0 | alotau)\n",
      "(Processing Record 156 of set 0 | ketchikan)\n",
      "(Processing Record 157 of set 0 | istisu)\n",
      "(Processing Record 158 of set 0 | port lincoln)\n",
      "(Processing Record 159 of set 0 | victoria)\n",
      "(Processing Record 160 of set 0 | los amates)\n",
      "(Processing Record 161 of set 0 | salinopolis)\n",
      "(Processing Record 162 of set 0 | arlit)\n",
      "(Processing Record 163 of set 0 | bambous virieux)\n",
      "(Processing Record 164 of set 0 | nelson bay)\n",
      "(Processing Record 165 of set 0 | lorengau)\n",
      "(Processing Record 166 of set 0 | namibe)\n",
      "(Processing Record 167 of set 0 | sentyabrskiy)\n",
      "(Processing Record 168 of set 0 | lakselv)\n",
      "(Processing Record 169 of set 0 | port macquarie)\n",
      "(Processing Record 170 of set 0 | trofors)\n",
      "(Processing Record 171 of set 0 | dikson)\n",
      "(Processing Record 172 of set 0 | belushya guba)\n",
      "City not found. Skipping...\n",
      "(Processing Record 173 of set 0 | pisco)\n",
      "City not found. Skipping...\n",
      "(Processing Record 174 of set 0 | lompoc)\n",
      "(Processing Record 175 of set 0 | nizhneyansk)\n",
      "(Processing Record 176 of set 0 | kodiak)\n",
      "(Processing Record 177 of set 0 | manjacaze)\n"
     ]
    },
    {
     "name": "stdout",
     "output_type": "stream",
     "text": [
      "(Processing Record 178 of set 0 | chuy)\n",
      "(Processing Record 179 of set 0 | nome)\n",
      "(Processing Record 180 of set 0 | kano)\n",
      "(Processing Record 181 of set 0 | kampot)\n",
      "(Processing Record 182 of set 0 | bonthe)\n",
      "(Processing Record 183 of set 0 | buxar)\n",
      "(Processing Record 184 of set 0 | vacha)\n",
      "(Processing Record 185 of set 0 | nuuk)\n",
      "(Processing Record 186 of set 0 | abu kamal)\n",
      "(Processing Record 187 of set 0 | dalnerechensk)\n",
      "(Processing Record 188 of set 0 | muros)\n",
      "(Processing Record 189 of set 0 | salalah)\n",
      "(Processing Record 190 of set 0 | bontoc)\n",
      "(Processing Record 191 of set 0 | zabaykalsk)\n",
      "(Processing Record 192 of set 0 | noyabrsk)\n",
      "(Processing Record 193 of set 0 | marcona)\n",
      "(Processing Record 194 of set 0 | mys shmidta)\n",
      "(Processing Record 195 of set 0 | fortuna)\n",
      "(Processing Record 196 of set 0 | goure)\n",
      "(Processing Record 197 of set 0 | avarua)\n",
      "(Processing Record 198 of set 0 | kavieng)\n",
      "(Processing Record 199 of set 0 | barrow)\n",
      "City not found. Skipping...\n",
      "(Processing Record 200 of set 0 | birjand)\n",
      "(Processing Record 201 of set 0 | talnakh)\n",
      "(Processing Record 202 of set 0 | asau)\n",
      "(Processing Record 203 of set 0 | ossora)\n",
      "(Processing Record 204 of set 0 | pak thong chai)\n",
      "(Processing Record 205 of set 0 | east london)\n",
      "(Processing Record 206 of set 0 | port hueneme)\n",
      "(Processing Record 207 of set 0 | cabo san lucas)\n",
      "(Processing Record 208 of set 0 | sadabad)\n",
      "City not found. Skipping...\n",
      "(Processing Record 209 of set 0 | nador)\n",
      "(Processing Record 210 of set 0 | meulaboh)\n",
      "(Processing Record 211 of set 0 | zitlala)\n",
      "(Processing Record 212 of set 0 | heishan)\n",
      "(Processing Record 213 of set 0 | chokurdakh)\n",
      "(Processing Record 214 of set 0 | makung)\n",
      "(Processing Record 215 of set 0 | wuwei)\n",
      "City not found. Skipping...\n",
      "(Processing Record 216 of set 0 | umzimvubu)\n",
      "(Processing Record 217 of set 0 | naze)\n",
      "(Processing Record 218 of set 0 | oparino)\n",
      "(Processing Record 219 of set 0 | geraldton)\n",
      "(Processing Record 220 of set 0 | hambantota)\n",
      "(Processing Record 221 of set 0 | beringovskiy)\n",
      "(Processing Record 222 of set 0 | marsh harbour)\n",
      "(Processing Record 223 of set 0 | eldorado)\n",
      "(Processing Record 224 of set 0 | saint anthony)\n",
      "City not found. Skipping...\n",
      "(Processing Record 225 of set 0 | codrington)\n",
      "(Processing Record 226 of set 0 | douglas)\n",
      "(Processing Record 227 of set 0 | shangqiu)\n",
      "(Processing Record 228 of set 0 | gao)\n",
      "City not found. Skipping...\n",
      "(Processing Record 229 of set 0 | vanavara)\n",
      "(Processing Record 230 of set 0 | quelimane)\n",
      "(Processing Record 231 of set 0 | grand river south east)\n",
      "(Processing Record 232 of set 0 | samusu)\n",
      "(Processing Record 233 of set 0 | semporna)\n",
      "(Processing Record 234 of set 0 | eyl)\n",
      "City not found. Skipping...\n",
      "(Processing Record 235 of set 0 | grand-santi)\n",
      "(Processing Record 236 of set 0 | yar-sale)\n",
      "(Processing Record 237 of set 0 | dingle)\n",
      "(Processing Record 238 of set 0 | sitka)\n",
      "(Processing Record 239 of set 0 | vryburg)\n",
      "(Processing Record 240 of set 0 | mastic beach)\n",
      "(Processing Record 241 of set 0 | guerrero negro)\n",
      "(Processing Record 242 of set 0 | yavaros)\n",
      "(Processing Record 243 of set 0 | pokhara)\n",
      "(Processing Record 244 of set 0 | wanning)\n",
      "(Processing Record 245 of set 0 | jiayuguan)\n",
      "(Processing Record 246 of set 0 | okha)\n",
      "(Processing Record 247 of set 0 | tautira)\n",
      "(Processing Record 248 of set 0 | witu)\n",
      "(Processing Record 249 of set 0 | krasnyy chikoy)\n",
      "(Processing Record 250 of set 0 | prince rupert)\n",
      "(Processing Record 251 of set 0 | boca do acre)\n",
      "(Processing Record 252 of set 0 | palabuhanratu)\n",
      "(Processing Record 253 of set 0 | tromso)\n",
      "(Processing Record 254 of set 0 | grindavik)\n",
      "(Processing Record 255 of set 0 | vila franca do campo)\n",
      "(Processing Record 256 of set 0 | pozo colorado)\n",
      "(Processing Record 257 of set 0 | labelle)\n",
      "(Processing Record 258 of set 0 | jhelum)\n",
      "(Processing Record 259 of set 0 | tilichiki)\n",
      "(Processing Record 260 of set 0 | anadyr)\n",
      "(Processing Record 261 of set 0 | illapel)\n",
      "(Processing Record 262 of set 0 | adre)\n",
      "(Processing Record 263 of set 0 | carupano)\n",
      "(Processing Record 264 of set 0 | los llanos de aridane)\n",
      "(Processing Record 265 of set 0 | molchanovo)\n",
      "(Processing Record 266 of set 0 | new norfolk)\n",
      "(Processing Record 267 of set 0 | bima)\n",
      "(Processing Record 268 of set 0 | rawson)\n",
      "(Processing Record 269 of set 0 | cam ranh)\n",
      "(Processing Record 270 of set 0 | san patricio)\n",
      "City not found. Skipping...\n",
      "(Processing Record 271 of set 0 | amderma)\n",
      "(Processing Record 272 of set 0 | burica)\n",
      "(Processing Record 273 of set 0 | saryg-sep)\n",
      "(Processing Record 274 of set 0 | husavik)\n",
      "(Processing Record 275 of set 0 | ancud)\n",
      "(Processing Record 276 of set 0 | puri)\n",
      "(Processing Record 277 of set 0 | louisbourg)\n",
      "(Processing Record 278 of set 0 | simao)\n",
      "City not found. Skipping...\n",
      "(Processing Record 279 of set 0 | okhotsk)\n",
      "City not found. Skipping...\n",
      "(Processing Record 280 of set 0 | acandi)\n",
      "(Processing Record 281 of set 0 | kruisfontein)\n",
      "(Processing Record 282 of set 0 | bartica)\n",
      "(Processing Record 283 of set 0 | vestmanna)\n",
      "City not found. Skipping...\n",
      "(Processing Record 284 of set 0 | qaanaaq)\n",
      "(Processing Record 285 of set 0 | byron bay)\n",
      "(Processing Record 286 of set 0 | palmer)\n",
      "City not found. Skipping...\n",
      "(Processing Record 287 of set 0 | harper)\n",
      "City not found. Skipping...\n",
      "(Processing Record 288 of set 0 | marawi)\n",
      "(Processing Record 289 of set 0 | halalo)\n",
      "(Processing Record 290 of set 0 | pitimbu)\n",
      "(Processing Record 291 of set 0 | espanola)\n",
      "(Processing Record 292 of set 0 | diamantino)\n",
      "(Processing Record 293 of set 0 | barcelos)\n",
      "(Processing Record 294 of set 0 | fort nelson)\n",
      "(Processing Record 295 of set 0 | zonguldak)\n",
      "(Processing Record 296 of set 0 | dunedin)\n",
      "(Processing Record 297 of set 0 | kamiiso)\n",
      "(Processing Record 298 of set 0 | asbe teferi)\n",
      "(Processing Record 299 of set 0 | comodoro rivadavia)\n",
      "(Processing Record 300 of set 0 | rock sound)\n",
      "(Processing Record 301 of set 0 | tsaratanana)\n",
      "(Processing Record 302 of set 0 | tawang)\n",
      "(Processing Record 303 of set 0 | rio gallegos)\n",
      "(Processing Record 304 of set 0 | cervo)\n",
      "(Processing Record 305 of set 0 | clarence town)\n",
      "(Processing Record 306 of set 0 | axim)\n",
      "(Processing Record 307 of set 0 | provideniya)\n",
      "(Processing Record 308 of set 0 | rockland)\n",
      "(Processing Record 309 of set 0 | saint-francois)\n",
      "(Processing Record 310 of set 0 | sao joao da barra)\n",
      "(Processing Record 311 of set 0 | myaundzha)\n",
      "(Processing Record 312 of set 0 | melo)\n",
      "City not found. Skipping...\n",
      "(Processing Record 313 of set 0 | langsa)\n",
      "(Processing Record 314 of set 0 | trelew)\n",
      "(Processing Record 315 of set 0 | chapais)\n",
      "(Processing Record 316 of set 0 | baruun-urt)\n",
      "(Processing Record 317 of set 0 | braintree)\n",
      "(Processing Record 318 of set 0 | hvammstangi)\n",
      "(Processing Record 319 of set 0 | isangel)\n",
      "(Processing Record 320 of set 0 | vao)\n",
      "City not found. Skipping...\n",
      "(Processing Record 321 of set 0 | digras)\n",
      "(Processing Record 322 of set 0 | flin flon)\n",
      "(Processing Record 323 of set 0 | maniitsoq)\n",
      "(Processing Record 324 of set 0 | cayenne)\n",
      "(Processing Record 325 of set 0 | shimoda)\n",
      "(Processing Record 326 of set 0 | san andres)\n",
      "(Processing Record 327 of set 0 | glauchau)\n",
      "(Processing Record 328 of set 0 | saint-joseph)\n",
      "City not found. Skipping...\n",
      "(Processing Record 329 of set 0 | miraflores)\n",
      "(Processing Record 330 of set 0 | bairiki)\n",
      "(Processing Record 331 of set 0 | najran)\n",
      "(Processing Record 332 of set 0 | noboribetsu)\n",
      "(Processing Record 333 of set 0 | mount gambier)\n",
      "City not found. Skipping...\n",
      "(Processing Record 334 of set 0 | labuhan)\n",
      "(Processing Record 335 of set 0 | pangnirtung)\n",
      "(Processing Record 336 of set 0 | san cristobal)\n",
      "(Processing Record 337 of set 0 | port hawkesbury)\n",
      "(Processing Record 338 of set 0 | melbu)\n",
      "(Processing Record 339 of set 0 | te anau)\n",
      "(Processing Record 340 of set 0 | manzanillo)\n",
      "(Processing Record 341 of set 0 | touros)\n",
      "(Processing Record 342 of set 0 | bonnyville)\n",
      "(Processing Record 343 of set 0 | mutsamudu)\n",
      "(Processing Record 344 of set 0 | paamiut)\n",
      "(Processing Record 345 of set 0 | houma)\n",
      "(Processing Record 346 of set 0 | avera)\n",
      "City not found. Skipping...\n",
      "(Processing Record 347 of set 0 | iracoubo)\n",
      "(Processing Record 348 of set 0 | orizona)\n",
      "(Processing Record 349 of set 0 | srednekolymsk)\n",
      "(Processing Record 350 of set 0 | sao raimundo nonato)\n",
      "(Processing Record 351 of set 0 | nevelsk)\n"
     ]
    },
    {
     "name": "stdout",
     "output_type": "stream",
     "text": [
      "(Processing Record 352 of set 0 | bondo)\n",
      "City not found. Skipping...\n",
      "(Processing Record 353 of set 0 | beyneu)\n",
      "(Processing Record 354 of set 0 | clyde river)\n",
      "(Processing Record 355 of set 0 | richards bay)\n",
      "(Processing Record 356 of set 0 | arman)\n",
      "City not found. Skipping...\n",
      "(Processing Record 357 of set 0 | erzin)\n",
      "(Processing Record 358 of set 0 | ulaanbaatar)\n",
      "(Processing Record 359 of set 0 | opobo)\n",
      "(Processing Record 360 of set 0 | ponta do sol)\n",
      "(Processing Record 361 of set 0 | attawapiskat)\n",
      "(Processing Record 362 of set 0 | mpika)\n",
      "(Processing Record 363 of set 0 | kahului)\n",
      "(Processing Record 364 of set 0 | mathathane)\n",
      "(Processing Record 365 of set 0 | dzheguta)\n",
      "(Processing Record 366 of set 0 | compostela)\n",
      "(Processing Record 367 of set 0 | ojinaga)\n",
      "(Processing Record 368 of set 0 | cocobeach)\n",
      "(Processing Record 369 of set 0 | half moon bay)\n",
      "(Processing Record 370 of set 0 | mbandaka)\n",
      "(Processing Record 371 of set 0 | mentakab)\n",
      "(Processing Record 372 of set 0 | rincon)\n",
      "(Processing Record 373 of set 0 | mookane)\n",
      "(Processing Record 374 of set 0 | alofi)\n",
      "(Processing Record 375 of set 0 | sarh)\n",
      "(Processing Record 376 of set 0 | anchorage)\n",
      "(Processing Record 377 of set 0 | burgeo)\n",
      "(Processing Record 378 of set 0 | basoko)\n",
      "(Processing Record 379 of set 0 | kuche)\n",
      "City not found. Skipping...\n",
      "(Processing Record 380 of set 0 | fairbanks)\n",
      "(Processing Record 381 of set 0 | broken hill)\n",
      "(Processing Record 382 of set 0 | qaqortoq)\n",
      "(Processing Record 383 of set 0 | stoyba)\n",
      "(Processing Record 384 of set 0 | qandala)\n",
      "(Processing Record 385 of set 0 | beloha)\n",
      "(Processing Record 386 of set 0 | taoudenni)\n",
      "(Processing Record 387 of set 0 | korla)\n",
      "(Processing Record 388 of set 0 | gotsu)\n",
      "(Processing Record 389 of set 0 | yeppoon)\n",
      "(Processing Record 390 of set 0 | baculin)\n",
      "(Processing Record 391 of set 0 | constantine)\n",
      "City not found. Skipping...\n",
      "(Processing Record 392 of set 0 | vardo)\n",
      "(Processing Record 393 of set 0 | mirante do paranapanema)\n",
      "(Processing Record 394 of set 0 | catuday)\n",
      "(Processing Record 395 of set 0 | egvekinot)\n",
      "(Processing Record 396 of set 0 | kieta)\n",
      "(Processing Record 397 of set 0 | ulaangom)\n",
      "(Processing Record 398 of set 0 | sistranda)\n",
      "(Processing Record 399 of set 0 | itoman)\n",
      "(Processing Record 400 of set 0 | dalinghe)\n",
      "(Processing Record 401 of set 0 | ilulissat)\n",
      "(Processing Record 402 of set 0 | makakilo city)\n",
      "(Processing Record 403 of set 0 | glendive)\n",
      "(Processing Record 404 of set 0 | tiruchchendur)\n",
      "(Processing Record 405 of set 0 | dawei)\n",
      "(Processing Record 406 of set 0 | berlevag)\n",
      "(Processing Record 407 of set 0 | hue)\n",
      "City not found. Skipping...\n",
      "(Processing Record 408 of set 0 | dhidhdhoo)\n",
      "(Processing Record 409 of set 0 | toftir)\n",
      "(Processing Record 410 of set 0 | taksimo)\n",
      "(Processing Record 411 of set 0 | kon tum)\n",
      "(Processing Record 412 of set 0 | cumaribo)\n",
      "(Processing Record 413 of set 0 | coihaique)\n",
      "(Processing Record 414 of set 0 | brasilia)\n",
      "(Processing Record 415 of set 0 | jalu)\n",
      "(Processing Record 416 of set 0 | sibolga)\n",
      "(Processing Record 417 of set 0 | yerbogachen)\n",
      "(Processing Record 418 of set 0 | laguna)\n",
      "(Processing Record 419 of set 0 | pangkalanbuun)\n",
      "(Processing Record 420 of set 0 | griffith)\n",
      "City not found. Skipping...\n",
      "(Processing Record 421 of set 0 | ejura)\n",
      "(Processing Record 422 of set 0 | ko samui)\n",
      "(Processing Record 423 of set 0 | bulgan)\n",
      "(Processing Record 424 of set 0 | delijan)\n",
      "(Processing Record 425 of set 0 | lokosovo)\n",
      "(Processing Record 426 of set 0 | seymchan)\n",
      "(Processing Record 427 of set 0 | yamandu)\n",
      "City not found. Skipping...\n",
      "(Processing Record 428 of set 0 | srikakulam)\n",
      "(Processing Record 429 of set 0 | prince george)\n",
      "City not found. Skipping...\n",
      "(Processing Record 430 of set 0 | port blair)\n",
      "(Processing Record 431 of set 0 | barybino)\n",
      "(Processing Record 432 of set 0 | lethem)\n",
      "(Processing Record 433 of set 0 | quimper)\n",
      "(Processing Record 434 of set 0 | vestmannaeyjar)\n",
      "(Processing Record 435 of set 0 | aktash)\n",
      "(Processing Record 436 of set 0 | ukiah)\n",
      "(Processing Record 437 of set 0 | wajima)\n",
      "(Processing Record 438 of set 0 | pemangkat)\n",
      "(Processing Record 439 of set 0 | leh)\n",
      "(Processing Record 440 of set 0 | hami)\n",
      "(Processing Record 441 of set 0 | ouadda)\n",
      "(Processing Record 442 of set 0 | ust-kuyga)\n",
      "(Processing Record 443 of set 0 | kembe)\n",
      "(Processing Record 444 of set 0 | port-gentil)\n",
      "(Processing Record 445 of set 0 | nouadhibou)\n",
      "(Processing Record 446 of set 0 | upata)\n",
      "(Processing Record 447 of set 0 | two rivers)\n",
      "(Processing Record 448 of set 0 | fort-shevchenko)\n",
      "(Processing Record 449 of set 0 | russell)\n",
      "(Processing Record 450 of set 0 | balugaon)\n",
      "(Processing Record 451 of set 0 | tawkar)\n",
      "(Processing Record 452 of set 0 | san pedro)\n",
      "(Processing Record 453 of set 0 | viedma)\n",
      "(Processing Record 454 of set 0 | zhuhai)\n",
      "(Processing Record 455 of set 0 | celestun)\n",
      "(Processing Record 456 of set 0 | san antonio)\n",
      "(Processing Record 457 of set 0 | tasbuget)\n",
      "(Processing Record 458 of set 0 | opuwo)\n",
      "(Processing Record 459 of set 0 | marzuq)\n",
      "(Processing Record 460 of set 0 | rungata)\n",
      "(Processing Record 461 of set 0 | terrace)\n",
      "City not found. Skipping...\n",
      "(Processing Record 462 of set 0 | akniste)\n",
      "(Processing Record 463 of set 0 | fuyu)\n",
      "City not found. Skipping...\n",
      "(Processing Record 464 of set 0 | charters towers)\n",
      "(Processing Record 465 of set 0 | kutum)\n",
      "(Processing Record 466 of set 0 | corinto)\n",
      "(Processing Record 467 of set 0 | stepnyak)\n",
      "(Processing Record 468 of set 0 | mount isa)\n",
      "(Processing Record 469 of set 0 | werda)\n",
      "(Processing Record 470 of set 0 | atar)\n",
      "City not found. Skipping...\n",
      "(Processing Record 471 of set 0 | abu samrah)\n",
      "(Processing Record 472 of set 0 | meyungs)\n",
      "(Processing Record 473 of set 0 | ossipee)\n",
      "(Processing Record 474 of set 0 | havoysund)\n",
      "(Processing Record 475 of set 0 | kegayli)\n",
      "(Processing Record 476 of set 0 | boshan)\n",
      "(Processing Record 477 of set 0 | souillac)\n",
      "(Processing Record 478 of set 0 | gulu)\n",
      "(Processing Record 479 of set 0 | kousseri)\n",
      "(Processing Record 480 of set 0 | pierre)\n",
      "(Processing Record 481 of set 0 | labuan)\n",
      "(Processing Record 482 of set 0 | sayansk)\n",
      "(Processing Record 483 of set 0 | karaul)\n",
      "(Processing Record 484 of set 0 | ballina)\n",
      "(Processing Record 485 of set 0 | roma)\n",
      "(Processing Record 486 of set 0 | odweyne)\n",
      "(Processing Record 487 of set 0 | warrington)\n",
      "(Processing Record 488 of set 0 | luchenza)\n",
      "(Processing Record 489 of set 0 | rafaela)\n",
      "(Processing Record 490 of set 0 | saint cyrus)\n",
      "(Processing Record 491 of set 0 | derzhavinsk)\n",
      "(Processing Record 492 of set 0 | keizer)\n",
      "(Processing Record 493 of set 0 | qui nhon)\n",
      "(Processing Record 494 of set 0 | roald)\n",
      "City not found. Skipping...\n",
      "(Processing Record 495 of set 0 | sao felix do xingu)\n",
      "(Processing Record 496 of set 0 | camacha)\n",
      "(Processing Record 497 of set 0 | sioux lookout)\n",
      "(Processing Record 498 of set 0 | nanortalik)\n",
      "(Processing Record 499 of set 0 | birao)\n",
      "(Processing Record 500 of set 0 | khandyga)\n",
      "(Processing Record 501 of set 0 | sabanagrande)\n",
      "(Processing Record 502 of set 0 | constitucion)\n",
      "City not found. Skipping...\n",
      "(Processing Record 503 of set 0 | sjenica)\n",
      "(Processing Record 504 of set 0 | sayyan)\n",
      "(Processing Record 505 of set 0 | banda aceh)\n",
      "(Processing Record 506 of set 0 | pocone)\n",
      "(Processing Record 507 of set 0 | umm lajj)\n",
      "(Processing Record 508 of set 0 | xinqing)\n",
      "(Processing Record 509 of set 0 | nanakuli)\n",
      "(Processing Record 510 of set 0 | tottori)\n",
      "(Processing Record 511 of set 0 | dudinka)\n",
      "(Processing Record 512 of set 0 | esperance)\n",
      "(Processing Record 513 of set 0 | metehara)\n",
      "(Processing Record 514 of set 0 | luderitz)\n",
      "(Processing Record 515 of set 0 | kempsey)\n",
      "(Processing Record 516 of set 0 | tateyama)\n",
      "(Processing Record 517 of set 0 | dzhusaly)\n",
      "(Processing Record 518 of set 0 | honiara)\n",
      "(Processing Record 519 of set 0 | bunbury)\n",
      "(Processing Record 520 of set 0 | independencia)\n",
      "City not found. Skipping...\n",
      "(Processing Record 521 of set 0 | olafsvik)\n",
      "(Processing Record 522 of set 0 | bababe)\n",
      "(Processing Record 523 of set 0 | berdsk)\n",
      "(Processing Record 524 of set 0 | huarmey)\n",
      "(Processing Record 525 of set 0 | seydi)\n",
      "(Processing Record 526 of set 0 | evensk)\n",
      "(Processing Record 527 of set 0 | batemans bay)\n",
      "(Processing Record 528 of set 0 | gondanglegi)\n",
      "(Processing Record 529 of set 0 | porto velho)\n"
     ]
    },
    {
     "name": "stdout",
     "output_type": "stream",
     "text": [
      "(Processing Record 530 of set 0 | tsnori)\n",
      "(Processing Record 531 of set 0 | thanh hoa)\n",
      "(Processing Record 532 of set 0 | skjervoy)\n",
      "(Processing Record 533 of set 0 | zhuanghe)\n",
      "(Processing Record 534 of set 0 | oistins)\n",
      "(Processing Record 535 of set 0 | lahij)\n",
      "(Processing Record 536 of set 0 | camalu)\n",
      "(Processing Record 537 of set 0 | bandarbeyla)\n",
      "(Processing Record 538 of set 0 | kapit)\n",
      "(Processing Record 539 of set 0 | kurilsk)\n",
      "(Processing Record 540 of set 0 | saint-pierre)\n",
      "(Processing Record 541 of set 0 | saint george)\n",
      "City not found. Skipping...\n",
      "(Processing Record 542 of set 0 | ushtobe)\n",
      "(Processing Record 543 of set 0 | san isidro)\n",
      "(Processing Record 544 of set 0 | babanusah)\n",
      "(Processing Record 545 of set 0 | irituia)\n",
      "(Processing Record 546 of set 0 | luganville)\n",
      "(Processing Record 547 of set 0 | nha trang)\n",
      "(Processing Record 548 of set 0 | kloulklubed)\n",
      "(Processing Record 549 of set 0 | blagoyevo)\n",
      "(Processing Record 550 of set 0 | brodokalmak)\n",
      "(Processing Record 551 of set 0 | havelock)\n",
      "(Processing Record 552 of set 0 | beisfjord)\n",
      "(Processing Record 553 of set 0 | uige)\n",
      "(Processing Record 554 of set 0 | edd)\n",
      "City not found. Skipping...\n",
      "(Processing Record 555 of set 0 | salym)\n",
      "(Processing Record 556 of set 0 | quesnel)\n",
      "(Processing Record 557 of set 0 | georgiyevka)\n",
      "(Processing Record 558 of set 0 | mizoch)\n",
      "(Processing Record 559 of set 0 | kaka)\n",
      "City not found. Skipping...\n",
      "(Processing Record 560 of set 0 | kendari)\n",
      "(Processing Record 561 of set 0 | pskov)\n",
      "(Processing Record 562 of set 0 | artyk)\n",
      "(Processing Record 563 of set 0 | paragominas)\n",
      "(Processing Record 564 of set 0 | uyemskiy)\n",
      "(Processing Record 565 of set 0 | victoria point)\n",
      "(Processing Record 566 of set 0 | fethiye)\n",
      "(Processing Record 567 of set 0 | salinas)\n",
      "(Processing Record 568 of set 0 | locri)\n",
      "(Processing Record 569 of set 0 | kenora)\n",
      "(Processing Record 570 of set 0 | rasskazovo)\n",
      "(Processing Record 571 of set 0 | igarka)\n",
      "(Processing Record 572 of set 0 | zabid)\n",
      "(Processing Record 573 of set 0 | roros)\n",
      "(Processing Record 574 of set 0 | yangjiang)\n",
      "(Processing Record 575 of set 0 | ust-nera)\n",
      "(Processing Record 576 of set 0 | vagur)\n",
      "(Processing Record 577 of set 0 | ribe)\n",
      "(Processing Record 578 of set 0 | ixtapa)\n",
      "(Processing Record 579 of set 0 | westport)\n",
      "(Processing Record 580 of set 0 | lasa)\n",
      "(Processing Record 581 of set 0 | cortez)\n",
      "(Processing Record 582 of set 0 | luena)\n",
      "(Processing Record 583 of set 0 | anshun)\n",
      "(Processing Record 584 of set 0 | pitsunda)\n",
      "(Processing Record 585 of set 0 | urumqi)\n",
      "(Processing Record 586 of set 0 | mongo)\n",
      "City not found. Skipping...\n",
      "(Processing Record 587 of set 0 | vostok)\n",
      "City not found. Skipping...\n",
      "(Processing Record 588 of set 0 | huajuapan)\n"
     ]
    }
   ],
   "source": [
    "count = 0\n",
    "set_number = 0\n",
    "temp=[]\n",
    "humidity = []\n",
    "cloud = []\n",
    "wind = []\n",
    "country = []\n",
    "cities_clean= []\n",
    "date = []\n",
    "lats_clean = []\n",
    "lngs_clean = []\n",
    "# if count == 50:\n",
    "#   set_number += 1\n",
    "#   count = 0\n",
    "#   try: # get City\tLat\tLng\tMax Temp\tHumidity\tCloudiness\tWind Speed\tCountry\tDate\n",
    "for i in cities[:]:\n",
    "    try:\n",
    "        count += 1\n",
    "        print(f\"(Processing Record {count} of set {set_number} | {i})\")\n",
    "        geocode_response = requests.get(f\"https://maps.googleapis.com/maps/api/geocode/json?address={i}&key={g_key}\").json()\n",
    "        lat,lng = geocode_response[\"results\"][0][\"geometry\"][\"location\"][\"lat\"],geocode_response[\"results\"][0][\"geometry\"][\"location\"][\"lng\"]\n",
    "        response = (requests.get(f\"https://api.openweathermap.org/data/2.5/weather?lat={lat}&lon={lng}&appid={weather_api_key}&units=imperial\").json())\n",
    "        country.append(response[\"sys\"][\"country\"])\n",
    "        # print(response[\"sys\"])\n",
    "        lats_clean.append(lat)\n",
    "        lngs_clean.append(lng)\n",
    "        cities_clean.append(i)\n",
    "        temp.append(response[\"main\"][\"temp_max\"])\n",
    "        humidity.append(response[\"main\"][\"humidity\"])\n",
    "        cloud.append(response[\"clouds\"][\"all\"])\n",
    "        wind.append(response[\"wind\"][\"speed\"])\n",
    "        date.append(response[\"dt\"]) #there's gotta be a better way to do this \n",
    "    except:\n",
    "     print(\"City not found. Skipping...\")"
   ]
  },
  {
   "cell_type": "code",
   "execution_count": 4,
   "metadata": {
    "colab": {
     "base_uri": "https://localhost:8080/"
    },
    "id": "QZtA1D4lrjST",
    "outputId": "c362a926-f87e-4e4a-f285-331a6dbc8cd5"
   },
   "outputs": [
    {
     "data": {
      "text/plain": [
       "(536, 9)"
      ]
     },
     "execution_count": 4,
     "metadata": {},
     "output_type": "execute_result"
    }
   ],
   "source": [
    "weather_df = pd.DataFrame({\"City\": cities_clean, \"Lat\": lats_clean, \"Lng\": lngs_clean, \"Max Temp\" : temp,\"Humidity\":humidity,\"Cloudiness\":cloud,\"Wind Speed\":wind,\"Country\":country,\"Date\":date})\n",
    "weather_df.shape"
   ]
  },
  {
   "cell_type": "markdown",
   "metadata": {
    "id": "ZfyL7OfB7VC4"
   },
   "source": [
    "### Convert Raw Data to DataFrame\n",
    "* Export the city data into a .csv.\n",
    "* Display the DataFrame"
   ]
  },
  {
   "cell_type": "code",
   "execution_count": 5,
   "metadata": {
    "id": "mNgrchty9BVK"
   },
   "outputs": [],
   "source": [
    "weather_df.to_csv(\"weather.csv\")"
   ]
  },
  {
   "cell_type": "code",
   "execution_count": 6,
   "metadata": {
    "colab": {
     "base_uri": "https://localhost:8080/",
     "height": 300
    },
    "id": "0euTnayE-SrM",
    "outputId": "674c6998-cb06-42cc-a658-966fd666f1fc"
   },
   "outputs": [
    {
     "data": {
      "text/html": [
       "<div>\n",
       "<style scoped>\n",
       "    .dataframe tbody tr th:only-of-type {\n",
       "        vertical-align: middle;\n",
       "    }\n",
       "\n",
       "    .dataframe tbody tr th {\n",
       "        vertical-align: top;\n",
       "    }\n",
       "\n",
       "    .dataframe thead th {\n",
       "        text-align: right;\n",
       "    }\n",
       "</style>\n",
       "<table border=\"1\" class=\"dataframe\">\n",
       "  <thead>\n",
       "    <tr style=\"text-align: right;\">\n",
       "      <th></th>\n",
       "      <th>Lat</th>\n",
       "      <th>Lng</th>\n",
       "      <th>Max Temp</th>\n",
       "      <th>Humidity</th>\n",
       "      <th>Cloudiness</th>\n",
       "      <th>Wind Speed</th>\n",
       "      <th>Date</th>\n",
       "    </tr>\n",
       "  </thead>\n",
       "  <tbody>\n",
       "    <tr>\n",
       "      <th>count</th>\n",
       "      <td>536.000000</td>\n",
       "      <td>536.000000</td>\n",
       "      <td>536.000000</td>\n",
       "      <td>536.000000</td>\n",
       "      <td>536.000000</td>\n",
       "      <td>536.000000</td>\n",
       "      <td>5.360000e+02</td>\n",
       "    </tr>\n",
       "    <tr>\n",
       "      <th>mean</th>\n",
       "      <td>22.315242</td>\n",
       "      <td>18.442638</td>\n",
       "      <td>65.697407</td>\n",
       "      <td>73.869403</td>\n",
       "      <td>57.360075</td>\n",
       "      <td>7.832351</td>\n",
       "      <td>1.662940e+09</td>\n",
       "    </tr>\n",
       "    <tr>\n",
       "      <th>std</th>\n",
       "      <td>33.180915</td>\n",
       "      <td>92.322982</td>\n",
       "      <td>15.471243</td>\n",
       "      <td>19.321136</td>\n",
       "      <td>38.379889</td>\n",
       "      <td>5.621033</td>\n",
       "      <td>9.032777e+01</td>\n",
       "    </tr>\n",
       "    <tr>\n",
       "      <th>min</th>\n",
       "      <td>-54.801912</td>\n",
       "      <td>-179.412597</td>\n",
       "      <td>32.580000</td>\n",
       "      <td>10.000000</td>\n",
       "      <td>0.000000</td>\n",
       "      <td>0.000000</td>\n",
       "      <td>1.662940e+09</td>\n",
       "    </tr>\n",
       "    <tr>\n",
       "      <th>25%</th>\n",
       "      <td>-2.605828</td>\n",
       "      <td>-61.391826</td>\n",
       "      <td>52.010000</td>\n",
       "      <td>66.000000</td>\n",
       "      <td>20.000000</td>\n",
       "      <td>3.520000</td>\n",
       "      <td>1.662940e+09</td>\n",
       "    </tr>\n",
       "    <tr>\n",
       "      <th>50%</th>\n",
       "      <td>25.844190</td>\n",
       "      <td>24.840344</td>\n",
       "      <td>68.385000</td>\n",
       "      <td>78.500000</td>\n",
       "      <td>67.000000</td>\n",
       "      <td>6.550000</td>\n",
       "      <td>1.662940e+09</td>\n",
       "    </tr>\n",
       "    <tr>\n",
       "      <th>75%</th>\n",
       "      <td>50.412191</td>\n",
       "      <td>100.454650</td>\n",
       "      <td>78.875000</td>\n",
       "      <td>88.000000</td>\n",
       "      <td>99.000000</td>\n",
       "      <td>10.660000</td>\n",
       "      <td>1.662940e+09</td>\n",
       "    </tr>\n",
       "    <tr>\n",
       "      <th>max</th>\n",
       "      <td>78.223172</td>\n",
       "      <td>179.348539</td>\n",
       "      <td>103.030000</td>\n",
       "      <td>100.000000</td>\n",
       "      <td>100.000000</td>\n",
       "      <td>40.290000</td>\n",
       "      <td>1.662940e+09</td>\n",
       "    </tr>\n",
       "  </tbody>\n",
       "</table>\n",
       "</div>"
      ],
      "text/plain": [
       "              Lat         Lng    Max Temp    Humidity  Cloudiness  Wind Speed  \\\n",
       "count  536.000000  536.000000  536.000000  536.000000  536.000000  536.000000   \n",
       "mean    22.315242   18.442638   65.697407   73.869403   57.360075    7.832351   \n",
       "std     33.180915   92.322982   15.471243   19.321136   38.379889    5.621033   \n",
       "min    -54.801912 -179.412597   32.580000   10.000000    0.000000    0.000000   \n",
       "25%     -2.605828  -61.391826   52.010000   66.000000   20.000000    3.520000   \n",
       "50%     25.844190   24.840344   68.385000   78.500000   67.000000    6.550000   \n",
       "75%     50.412191  100.454650   78.875000   88.000000   99.000000   10.660000   \n",
       "max     78.223172  179.348539  103.030000  100.000000  100.000000   40.290000   \n",
       "\n",
       "               Date  \n",
       "count  5.360000e+02  \n",
       "mean   1.662940e+09  \n",
       "std    9.032777e+01  \n",
       "min    1.662940e+09  \n",
       "25%    1.662940e+09  \n",
       "50%    1.662940e+09  \n",
       "75%    1.662940e+09  \n",
       "max    1.662940e+09  "
      ]
     },
     "execution_count": 6,
     "metadata": {},
     "output_type": "execute_result"
    }
   ],
   "source": [
    "weather_df_clean = weather_df.drop(columns = [\"City\",\"Country\"])\n",
    "weather_df_clean.describe()"
   ]
  },
  {
   "cell_type": "markdown",
   "metadata": {
    "id": "B4tjGaIr7VC7"
   },
   "source": [
    "## Inspect the data and remove the cities where the humidity > 100%.\n",
    "----\n",
    "Skip this step if there are no cities that have humidity > 100%. "
   ]
  },
  {
   "cell_type": "code",
   "execution_count": 36,
   "metadata": {
    "colab": {
     "base_uri": "https://localhost:8080/",
     "height": 424
    },
    "id": "Wlvbr6F6_E6-",
    "outputId": "726862a9-d86e-4b94-ebb9-7bf9c229c8ce"
   },
   "outputs": [
    {
     "data": {
      "text/html": [
       "<div>\n",
       "<style scoped>\n",
       "    .dataframe tbody tr th:only-of-type {\n",
       "        vertical-align: middle;\n",
       "    }\n",
       "\n",
       "    .dataframe tbody tr th {\n",
       "        vertical-align: top;\n",
       "    }\n",
       "\n",
       "    .dataframe thead th {\n",
       "        text-align: right;\n",
       "    }\n",
       "</style>\n",
       "<table border=\"1\" class=\"dataframe\">\n",
       "  <thead>\n",
       "    <tr style=\"text-align: right;\">\n",
       "      <th></th>\n",
       "      <th>Lat</th>\n",
       "      <th>Lng</th>\n",
       "      <th>Max Temp</th>\n",
       "      <th>Humidity</th>\n",
       "      <th>Cloudiness</th>\n",
       "      <th>Wind Speed</th>\n",
       "      <th>Date</th>\n",
       "    </tr>\n",
       "  </thead>\n",
       "  <tbody>\n",
       "    <tr>\n",
       "      <th>418</th>\n",
       "      <td>17.663100</td>\n",
       "      <td>83.278028</td>\n",
       "      <td>78.80</td>\n",
       "      <td>100</td>\n",
       "      <td>100</td>\n",
       "      <td>2.30</td>\n",
       "      <td>1662594471</td>\n",
       "    </tr>\n",
       "    <tr>\n",
       "      <th>186</th>\n",
       "      <td>70.476365</td>\n",
       "      <td>-68.601265</td>\n",
       "      <td>35.58</td>\n",
       "      <td>100</td>\n",
       "      <td>100</td>\n",
       "      <td>17.27</td>\n",
       "      <td>1662594343</td>\n",
       "    </tr>\n",
       "    <tr>\n",
       "      <th>45</th>\n",
       "      <td>-33.960837</td>\n",
       "      <td>25.602242</td>\n",
       "      <td>55.09</td>\n",
       "      <td>100</td>\n",
       "      <td>0</td>\n",
       "      <td>2.30</td>\n",
       "      <td>1662593732</td>\n",
       "    </tr>\n",
       "    <tr>\n",
       "      <th>248</th>\n",
       "      <td>18.243041</td>\n",
       "      <td>104.213025</td>\n",
       "      <td>73.02</td>\n",
       "      <td>99</td>\n",
       "      <td>100</td>\n",
       "      <td>2.26</td>\n",
       "      <td>1662594376</td>\n",
       "    </tr>\n",
       "    <tr>\n",
       "      <th>185</th>\n",
       "      <td>58.300493</td>\n",
       "      <td>-134.420131</td>\n",
       "      <td>60.98</td>\n",
       "      <td>99</td>\n",
       "      <td>100</td>\n",
       "      <td>6.91</td>\n",
       "      <td>1662594343</td>\n",
       "    </tr>\n",
       "    <tr>\n",
       "      <th>...</th>\n",
       "      <td>...</td>\n",
       "      <td>...</td>\n",
       "      <td>...</td>\n",
       "      <td>...</td>\n",
       "      <td>...</td>\n",
       "      <td>...</td>\n",
       "      <td>...</td>\n",
       "    </tr>\n",
       "    <tr>\n",
       "      <th>521</th>\n",
       "      <td>32.623739</td>\n",
       "      <td>65.456432</td>\n",
       "      <td>76.23</td>\n",
       "      <td>14</td>\n",
       "      <td>0</td>\n",
       "      <td>2.39</td>\n",
       "      <td>1662594528</td>\n",
       "    </tr>\n",
       "    <tr>\n",
       "      <th>284</th>\n",
       "      <td>20.257353</td>\n",
       "      <td>0.991030</td>\n",
       "      <td>93.67</td>\n",
       "      <td>13</td>\n",
       "      <td>2</td>\n",
       "      <td>7.34</td>\n",
       "      <td>1662594396</td>\n",
       "    </tr>\n",
       "    <tr>\n",
       "      <th>528</th>\n",
       "      <td>28.017440</td>\n",
       "      <td>-0.264250</td>\n",
       "      <td>97.00</td>\n",
       "      <td>13</td>\n",
       "      <td>45</td>\n",
       "      <td>5.26</td>\n",
       "      <td>1662594532</td>\n",
       "    </tr>\n",
       "    <tr>\n",
       "      <th>312</th>\n",
       "      <td>40.832421</td>\n",
       "      <td>-115.763123</td>\n",
       "      <td>94.91</td>\n",
       "      <td>12</td>\n",
       "      <td>0</td>\n",
       "      <td>8.05</td>\n",
       "      <td>1662594411</td>\n",
       "    </tr>\n",
       "    <tr>\n",
       "      <th>104</th>\n",
       "      <td>36.723557</td>\n",
       "      <td>-120.059879</td>\n",
       "      <td>114.85</td>\n",
       "      <td>9</td>\n",
       "      <td>0</td>\n",
       "      <td>11.39</td>\n",
       "      <td>1662594303</td>\n",
       "    </tr>\n",
       "  </tbody>\n",
       "</table>\n",
       "<p>565 rows × 7 columns</p>\n",
       "</div>"
      ],
      "text/plain": [
       "           Lat         Lng  Max Temp  Humidity  Cloudiness  Wind Speed  \\\n",
       "418  17.663100   83.278028     78.80       100         100        2.30   \n",
       "186  70.476365  -68.601265     35.58       100         100       17.27   \n",
       "45  -33.960837   25.602242     55.09       100           0        2.30   \n",
       "248  18.243041  104.213025     73.02        99         100        2.26   \n",
       "185  58.300493 -134.420131     60.98        99         100        6.91   \n",
       "..         ...         ...       ...       ...         ...         ...   \n",
       "521  32.623739   65.456432     76.23        14           0        2.39   \n",
       "284  20.257353    0.991030     93.67        13           2        7.34   \n",
       "528  28.017440   -0.264250     97.00        13          45        5.26   \n",
       "312  40.832421 -115.763123     94.91        12           0        8.05   \n",
       "104  36.723557 -120.059879    114.85         9           0       11.39   \n",
       "\n",
       "           Date  \n",
       "418  1662594471  \n",
       "186  1662594343  \n",
       "45   1662593732  \n",
       "248  1662594376  \n",
       "185  1662594343  \n",
       "..          ...  \n",
       "521  1662594528  \n",
       "284  1662594396  \n",
       "528  1662594532  \n",
       "312  1662594411  \n",
       "104  1662594303  \n",
       "\n",
       "[565 rows x 7 columns]"
      ]
     },
     "execution_count": 36,
     "metadata": {},
     "output_type": "execute_result"
    }
   ],
   "source": [
    "weather_df_clean.sort_values(\"Humidity\",ascending = False)"
   ]
  },
  {
   "cell_type": "code",
   "execution_count": 32,
   "metadata": {
    "id": "NYAAkRlG7VC7"
   },
   "outputs": [],
   "source": [
    "#  Get the indices of cities that have humidity over 100%.\n"
   ]
  },
  {
   "cell_type": "code",
   "execution_count": 33,
   "metadata": {
    "id": "34bqG64P7VC8"
   },
   "outputs": [],
   "source": [
    "# Make a new DataFrame equal to the city data to drop all humidity outliers by index.\n",
    "# Passing \"inplace=False\" will make a copy of the city_data DataFrame, which we call \"clean_city_data\".\n"
   ]
  },
  {
   "cell_type": "code",
   "execution_count": null,
   "metadata": {
    "id": "o-ipxfzT7VC8"
   },
   "outputs": [],
   "source": [
    "\n"
   ]
  },
  {
   "cell_type": "markdown",
   "metadata": {
    "id": "z0MLMjXm7VC9"
   },
   "source": [
    "## Plotting the Data\n",
    "* Use proper labeling of the plots using plot titles (including date of analysis) and axes labels.\n",
    "* Save the plotted figures as .pngs."
   ]
  },
  {
   "cell_type": "markdown",
   "metadata": {
    "id": "vo0W9E6b7VC9"
   },
   "source": [
    "## Latitude vs. Temperature Plot"
   ]
  },
  {
   "cell_type": "code",
   "execution_count": 38,
   "metadata": {
    "colab": {
     "base_uri": "https://localhost:8080/",
     "height": 295
    },
    "id": "Nc83dEfjXp--",
    "outputId": "535d5a6d-03d7-47cb-8a98-639ba7e07758"
   },
   "outputs": [
    {
     "data": {
      "image/png": "[encoded data removed]",
      "text/plain": [
       "<Figure size 432x288 with 1 Axes>"
      ]
     },
     "metadata": {
      "needs_background": "light"
     },
     "output_type": "display_data"
    }
   ],
   "source": [
    "weather_df_clean.plot(kind = \"scatter\",x=\"Lat\",y=\"Max Temp\", alpha = .6,edgecolors='black', s= 40)\n",
    "plt.grid()\n",
    "plt.title(\"City Latitude vs Max Temperature\")\n",
    "plt.savefig(r\"C:\\Users\\brand\\Downloads\\Bootcamp\\homework-repos\\python-api-challenge\\Images\\LatvsTemp\")\n",
    "plt.show()"
   ]
  },
  {
   "cell_type": "markdown",
   "metadata": {
    "id": "7zPfuJIA7VC9",
    "scrolled": true
   },
   "source": [
    "This plot shows city latitude vs. the maximum temperature. \n",
    "This plot appears to illustrate that as you move your lattitude closer to zero the max temperature incresase as well"
   ]
  },
  {
   "cell_type": "markdown",
   "metadata": {
    "id": "ZC7PSBY77VC-"
   },
   "source": [
    "## Latitude vs. Humidity Plot"
   ]
  },
  {
   "cell_type": "code",
   "execution_count": 39,
   "metadata": {
    "colab": {
     "base_uri": "https://localhost:8080/",
     "height": 295
    },
    "id": "4Dgat-M5ZDYL",
    "outputId": "b1d82fd8-5e04-4070-8aec-17f833a03eba"
   },
   "outputs": [
    {
     "data": {
      "image/png": "[encoded data removed]",
      "text/plain": [
       "<Figure size 432x288 with 1 Axes>"
      ]
     },
     "metadata": {
      "needs_background": "light"
     },
     "output_type": "display_data"
    }
   ],
   "source": [
    "weather_df_clean.plot(kind = \"scatter\",x=\"Lat\",y=\"Humidity\", alpha = .75,edgecolors='black', s= 40)\n",
    "plt.grid()\n",
    "plt.title(\"City Latitude vs Humidity\")\n",
    "plt.savefig(r\"C:\\Users\\brand\\Downloads\\Bootcamp\\homework-repos\\python-api-challenge\\Images\\LatvsHumid\")\n",
    "plt.show()"
   ]
  },
  {
   "cell_type": "markdown",
   "metadata": {
    "id": "fpPQlIqL7VC-"
   },
   "source": [
    "This plot shows city latitude vs humidity, this doesnt seem to show much of a relationship between the city latitude and the humidity. The data clusters around higher humitidy."
   ]
  },
  {
   "cell_type": "markdown",
   "metadata": {
    "id": "vKEo6mRu7VC_"
   },
   "source": [
    "## Latitude vs. Cloudiness Plot"
   ]
  },
  {
   "cell_type": "code",
   "execution_count": 42,
   "metadata": {
    "colab": {
     "base_uri": "https://localhost:8080/",
     "height": 295
    },
    "id": "GMXdcpQcZP80",
    "outputId": "fa51a574-1954-4282-c420-8cb6da1448c6"
   },
   "outputs": [
    {
     "data": {
      "image/png": "[encoded data removed]",
      "text/plain": [
       "<Figure size 432x288 with 1 Axes>"
      ]
     },
     "metadata": {
      "needs_background": "light"
     },
     "output_type": "display_data"
    }
   ],
   "source": [
    "weather_df_clean.plot(kind = \"scatter\",x=\"Lat\",y=\"Cloudiness\", alpha = .7,edgecolors='black', s= 40)\n",
    "plt.grid()\n",
    "plt.title(\"City Latitude vs Cloudiness\")\n",
    "plt.savefig(r\"C:\\Users\\brand\\Downloads\\Bootcamp\\homework-repos\\python-api-challenge\\Images\\LatvsCloud\")\n",
    "plt.show()"
   ]
  },
  {
   "cell_type": "markdown",
   "metadata": {
    "id": "Kj5v7-xz7VC_"
   },
   "source": [
    "This plot shows city latitude vs cloudiness, This plot doesnt show much of a relationship but the data does cluster near 100% cloudiness and 0% cloudiness"
   ]
  },
  {
   "cell_type": "markdown",
   "metadata": {
    "id": "3RC9FZtv7VC_"
   },
   "source": [
    "## Latitude vs. Wind Speed Plot"
   ]
  },
  {
   "cell_type": "code",
   "execution_count": 43,
   "metadata": {
    "colab": {
     "base_uri": "https://localhost:8080/",
     "height": 295
    },
    "id": "PegL734cZVzs",
    "outputId": "3e986f10-cfff-4c84-b840-14653bf1a826"
   },
   "outputs": [
    {
     "data": {
      "image/png": "[encoded data removed]",
      "text/plain": [
       "<Figure size 432x288 with 1 Axes>"
      ]
     },
     "metadata": {
      "needs_background": "light"
     },
     "output_type": "display_data"
    }
   ],
   "source": [
    "weather_df_clean.plot(kind = \"scatter\",x=\"Lat\",y=\"Wind Speed\", alpha = .5,edgecolors='black', s= 40)\n",
    "plt.grid()\n",
    "plt.title(\"City Latitude vs Wind Speed\")\n",
    "plt.savefig(r\"C:\\Users\\brand\\Downloads\\Bootcamp\\homework-repos\\python-api-challenge\\Images\\LatvsSpeed\")\n",
    "plt.show()"
   ]
  },
  {
   "cell_type": "markdown",
   "metadata": {
    "id": "SotoGPu-7VC_"
   },
   "source": [
    "This plot shows the lattitude vs the wind speed. There's not a noticible relationship, but most of the data does cluster near the 0-10 speed."
   ]
  },
  {
   "cell_type": "markdown",
   "metadata": {
    "id": "Z7jmfaWn7VDA"
   },
   "source": [
    "## Linear Regression"
   ]
  },
  {
   "cell_type": "code",
   "execution_count": 41,
   "metadata": {
    "colab": {
     "base_uri": "https://localhost:8080/",
     "height": 49
    },
    "id": "N6RTw-dx7VDA",
    "outputId": "c1f5babd-855c-435d-9ad9-d0edf58c46e9"
   },
   "outputs": [
    {
     "data": {
      "text/html": [
       "<div>\n",
       "<style scoped>\n",
       "    .dataframe tbody tr th:only-of-type {\n",
       "        vertical-align: middle;\n",
       "    }\n",
       "\n",
       "    .dataframe tbody tr th {\n",
       "        vertical-align: top;\n",
       "    }\n",
       "\n",
       "    .dataframe thead th {\n",
       "        text-align: right;\n",
       "    }\n",
       "</style>\n",
       "<table border=\"1\" class=\"dataframe\">\n",
       "  <thead>\n",
       "    <tr style=\"text-align: right;\">\n",
       "      <th></th>\n",
       "      <th>Lat</th>\n",
       "      <th>Lng</th>\n",
       "      <th>Max Temp</th>\n",
       "      <th>Humidity</th>\n",
       "      <th>Cloudiness</th>\n",
       "      <th>Wind Speed</th>\n",
       "      <th>Date</th>\n",
       "    </tr>\n",
       "  </thead>\n",
       "  <tbody>\n",
       "  </tbody>\n",
       "</table>\n",
       "</div>"
      ],
      "text/plain": [
       "Empty DataFrame\n",
       "Columns: [Lat, Lng, Max Temp, Humidity, Cloudiness, Wind Speed, Date]\n",
       "Index: []"
      ]
     },
     "execution_count": 41,
     "metadata": {},
     "output_type": "execute_result"
    }
   ],
   "source": [
    "#split into the seperate hemispheres\n",
    "weather_df_clean.head()\n",
    "weather_df_north = weather_df_clean.loc[(weather_df_clean[\"Lat\"]> 0,)] #check above 0 lattitude\n",
    "weather_df_south = weather_df_clean.loc[(weather_df_clean[\"Lat\"]< 0,)] #check below 0 lattidude\n",
    "weather_df_mid = weather_df_clean.loc[(weather_df_clean[\"Lat\"] == 0,)] #check nothing is exactly at zero\n",
    "weather_df_mid #this should never exist this needs to be an empty dataframe because weather_df_mid is not a hemisphere"
   ]
  },
  {
   "cell_type": "markdown",
   "metadata": {
    "id": "Fg7Hk-PH7VDA"
   },
   "source": [
    "####  Northern Hemisphere - Max Temp vs. Latitude Linear Regression"
   ]
  },
  {
   "cell_type": "code",
   "execution_count": 42,
   "metadata": {
    "colab": {
     "base_uri": "https://localhost:8080/",
     "height": 314
    },
    "id": "HCFDaNsoa7zZ",
    "outputId": "ee732ee0-a6dc-45aa-f2ca-23bd32aaff3e"
   },
   "outputs": [
    {
     "data": {
      "image/png": "[encoded data removed]",
      "text/plain": [
       "<Figure size 432x288 with 1 Axes>"
      ]
     },
     "metadata": {
      "needs_background": "light"
     },
     "output_type": "display_data"
    },
    {
     "name": "stdout",
     "output_type": "stream",
     "text": [
      "The r-value is : -0.797993369612612\n",
      "y = -0.62x +89.31\n"
     ]
    }
   ],
   "source": [
    "weather_df_north.plot(kind = \"scatter\",x=\"Lat\",y=\"Max Temp\")\n",
    "\n",
    "m,b,r,p,stdev = linregress(weather_df_north[\"Lat\"], weather_df_north[\"Max Temp\"])\n",
    "plt.plot(np.linspace(0,90),b + m*np.linspace(0,90), color = \"red\")\n",
    "plt.savefig(r\"C:\\Users\\brand\\Downloads\\Bootcamp\\homework-repos\\python-api-challenge\\Images\\LRLatvTempN\")\n",
    "plt.show()\n",
    "line_eq = \"y = \" + str(round(m,2)) + \"x +\" + str(round(b,2))\n",
    "r =f\"The r-value is : {r}\"\n",
    "print(r)\n",
    "print(line_eq)"
   ]
  },
  {
   "cell_type": "markdown",
   "metadata": {
    "id": "wgEF27bf7VDA"
   },
   "source": [
    "The model represents the relationship between the lattitude and the maximum temperature in the north hemisphere. This relationship is relativly strong at a -.71 r-value. This means as the lattitude increases the temperature decreases. "
   ]
  },
  {
   "cell_type": "markdown",
   "metadata": {
    "id": "cBvsNu1x7VDA"
   },
   "source": [
    "####  Southern Hemisphere - Max Temp vs. Latitude Linear Regression"
   ]
  },
  {
   "cell_type": "code",
   "execution_count": 43,
   "metadata": {
    "colab": {
     "base_uri": "https://localhost:8080/",
     "height": 314
    },
    "id": "qeGMwVbGeiqc",
    "outputId": "9d1b00ce-80ea-41c6-f7bc-6a1413eeeb1e"
   },
   "outputs": [
    {
     "data": {
      "image/png": "[encoded data removed]",
      "text/plain": [
       "<Figure size 432x288 with 1 Axes>"
      ]
     },
     "metadata": {
      "needs_background": "light"
     },
     "output_type": "display_data"
    },
    {
     "name": "stdout",
     "output_type": "stream",
     "text": [
      "The r-value is : 0.817498667748128\n",
      "y = 0.73x +83.21\n"
     ]
    }
   ],
   "source": [
    "weather_df_south.plot(kind = \"scatter\",x=\"Lat\",y=\"Max Temp\")\n",
    "\n",
    "m,b,r,p,stdev = linregress(weather_df_south[\"Lat\"], weather_df_south[\"Max Temp\"])\n",
    "plt.plot(np.linspace(-90,0),b + m*np.linspace(-90,0), color = \"red\")\n",
    "plt.savefig(r\"C:\\Users\\brand\\Downloads\\Bootcamp\\homework-repos\\python-api-challenge\\Images\\LRLatvTempS\")\n",
    "plt.show()\n",
    "line_eq = \"y = \" + str(round(m,2)) + \"x +\" + str(round(b,2))\n",
    "r =f\"The r-value is : {r}\"\n",
    "print(r)\n",
    "print(line_eq)"
   ]
  },
  {
   "cell_type": "markdown",
   "metadata": {
    "id": "oNIe85Cd7VDA"
   },
   "source": [
    "The model represents the relationship between the lattitude and the maximum temperature in the north hemisphere. This relationship is relativly strong at a .803 r-value. This means as the lattitude increases the temperature increases. Compared to the northern hemisphere the souther hemisphere has a much more clusterd dataset. This can be due to our choice of the lower bound of latitude having less data points to skew it to one side or another. "
   ]
  },
  {
   "cell_type": "markdown",
   "metadata": {
    "id": "MxSR0zzA7VDB"
   },
   "source": [
    "####  Northern Hemisphere - Humidity (%) vs. Latitude Linear Regression"
   ]
  },
  {
   "cell_type": "code",
   "execution_count": 44,
   "metadata": {
    "colab": {
     "base_uri": "https://localhost:8080/",
     "height": 314
    },
    "id": "afqqxMy1evUc",
    "outputId": "6e06762f-f595-429f-e6d1-d4c119e83a84"
   },
   "outputs": [
    {
     "data": {
      "image/png": "[encoded data removed]",
      "text/plain": [
       "<Figure size 432x288 with 1 Axes>"
      ]
     },
     "metadata": {
      "needs_background": "light"
     },
     "output_type": "display_data"
    },
    {
     "name": "stdout",
     "output_type": "stream",
     "text": [
      "The r-value is : 0.023117081805195058\n",
      "y = 0.02x +75.3\n"
     ]
    }
   ],
   "source": [
    "weather_df_north.plot(kind = \"scatter\",x=\"Lat\",y=\"Humidity\")\n",
    "\n",
    "m,b,r,p,stdev = linregress(weather_df_north[\"Lat\"], weather_df_north[\"Humidity\"])\n",
    "plt.plot(np.linspace(0,90),b + m*np.linspace(0,90), color = \"red\")\n",
    "plt.savefig(r\"C:\\Users\\brand\\Downloads\\Bootcamp\\homework-repos\\python-api-challenge\\Images\\LRLatvHumidN\")\n",
    "plt.show()\n",
    "line_eq = \"y = \" + str(round(m,2)) + \"x +\" + str(round(b,2))\n",
    "r =f\"The r-value is : {r}\"\n",
    "print(r)\n",
    "print(line_eq)"
   ]
  },
  {
   "cell_type": "markdown",
   "metadata": {
    "id": "lAygfRY87VDB"
   },
   "source": [
    "The model indicates the relationship between the northern hemisphere humidity and the lattitude does not have a strong linear relationship. This is also indicated by the low rvalue and lack of noticible trend in the graph"
   ]
  },
  {
   "cell_type": "markdown",
   "metadata": {
    "id": "7yB2SrWj7VDB"
   },
   "source": [
    "####  Southern Hemisphere - Humidity (%) vs. Latitude Linear Regression"
   ]
  },
  {
   "cell_type": "code",
   "execution_count": 45,
   "metadata": {
    "colab": {
     "base_uri": "https://localhost:8080/",
     "height": 314
    },
    "id": "P3lYsINFe5tc",
    "outputId": "9cf805ef-ea1a-4550-c12a-a6f0b45c4597"
   },
   "outputs": [
    {
     "data": {
      "image/png": "[encoded data removed]",
      "text/plain": [
       "<Figure size 432x288 with 1 Axes>"
      ]
     },
     "metadata": {
      "needs_background": "light"
     },
     "output_type": "display_data"
    },
    {
     "name": "stdout",
     "output_type": "stream",
     "text": [
      "The r-value is : 0.10059240804747877\n",
      "y = 0.15x +71.06\n"
     ]
    }
   ],
   "source": [
    "weather_df_south.plot(kind = \"scatter\",x=\"Lat\",y=\"Humidity\")\n",
    "m,b,r,p,stdev = linregress(weather_df_south[\"Lat\"], weather_df_south[\"Humidity\"])\n",
    "plt.plot(np.linspace(-90,0),b + m*np.linspace(-90,0), color = \"red\")\n",
    "plt.savefig(r\"C:\\Users\\brand\\Downloads\\Bootcamp\\homework-repos\\python-api-challenge\\Images\\LRLatvHumidS\")\n",
    "plt.show()\n",
    "line_eq = \"y = \" + str(round(m,2)) + \"x +\" + str(round(b,2))\n",
    "r =f\"The r-value is : {r}\"\n",
    "print(r)\n",
    "print(line_eq)"
   ]
  },
  {
   "cell_type": "markdown",
   "metadata": {
    "id": "uVfucdwu7VDB"
   },
   "source": [
    "This indicates there is little relationship between humidity percentage and latitude. Again this data is affected by the larger range of latitudes we have chosen for the souther hemisphere. There no strong relationship in the linear regression or graph"
   ]
  },
  {
   "cell_type": "markdown",
   "metadata": {
    "id": "sOP7GfRk7VDC"
   },
   "source": [
    "####  Northern Hemisphere - Cloudiness (%) vs. Latitude Linear Regression"
   ]
  },
  {
   "cell_type": "code",
   "execution_count": 46,
   "metadata": {
    "colab": {
     "base_uri": "https://localhost:8080/",
     "height": 314
    },
    "id": "42onPwFWf9q4",
    "outputId": "6fc23650-52e4-4ab7-e0fd-ec515ac92106"
   },
   "outputs": [
    {
     "data": {
      "image/png": "[encoded data removed]",
      "text/plain": [
       "<Figure size 432x288 with 1 Axes>"
      ]
     },
     "metadata": {
      "needs_background": "light"
     },
     "output_type": "display_data"
    },
    {
     "name": "stdout",
     "output_type": "stream",
     "text": [
      "The r-value is : 0.08401975745226647\n",
      "y = 0.15x +55.73\n"
     ]
    }
   ],
   "source": [
    "weather_df_north.plot(kind = \"scatter\",x=\"Lat\",y=\"Cloudiness\")\n",
    "\n",
    "m,b,r,p,stdev = linregress(weather_df_north[\"Lat\"], weather_df_north[\"Cloudiness\"])\n",
    "plt.plot(np.linspace(0,90),b + m*np.linspace(0,90), color = \"red\")\n",
    "plt.savefig(r\"C:\\Users\\brand\\Downloads\\Bootcamp\\homework-repos\\python-api-challenge\\Images\\LRLatvCloudN\")\n",
    "plt.show()\n",
    "line_eq = \"y = \" + str(round(m,2)) + \"x +\" + str(round(b,2))\n",
    "r =f\"The r-value is : {r}\"\n",
    "print(r)\n",
    "print(line_eq)"
   ]
  },
  {
   "cell_type": "markdown",
   "metadata": {
    "id": "fCVQlD1o7VDC"
   },
   "source": [
    "This linear regression shows the relationship between cloudiness and lattitude is not very strong as it has a very low rvalue. This is also indicated by the graph's lack of relationship. however, we can notice the data clumps towards values of 100% cloudiness and 0% cloudiness"
   ]
  },
  {
   "cell_type": "markdown",
   "metadata": {
    "id": "XiQ5A93f7VDC"
   },
   "source": [
    "####  Southern Hemisphere - Cloudiness (%) vs. Latitude Linear Regression"
   ]
  },
  {
   "cell_type": "code",
   "execution_count": 47,
   "metadata": {
    "colab": {
     "base_uri": "https://localhost:8080/",
     "height": 314
    },
    "id": "TwOpJ-XXgHVX",
    "outputId": "640cfe85-8b2b-4f24-a51b-0e81d38492bf"
   },
   "outputs": [
    {
     "data": {
      "image/png": "[encoded data removed]",
      "text/plain": [
       "<Figure size 432x288 with 1 Axes>"
      ]
     },
     "metadata": {
      "needs_background": "light"
     },
     "output_type": "display_data"
    },
    {
     "name": "stdout",
     "output_type": "stream",
     "text": [
      "The r-value is : 0.10059240804747877\n",
      "y = 0.15x +71.06\n"
     ]
    }
   ],
   "source": [
    "weather_df_south.plot(kind = \"scatter\",x=\"Lat\",y=\"Humidity\")\n",
    "m,b,r,p,stdev = linregress(weather_df_south[\"Lat\"], weather_df_south[\"Humidity\"])\n",
    "plt.plot(np.linspace(-90,0),b + m*np.linspace(-90,0), color = \"red\")\n",
    "plt.savefig(r\"C:\\Users\\brand\\Downloads\\Bootcamp\\homework-repos\\python-api-challenge\\Images\\LRLatvCloudS\")\n",
    "plt.show()\n",
    "line_eq = \"y = \" + str(round(m,2)) + \"x +\" + str(round(b,2))\n",
    "r =f\"The r-value is : {r}\"\n",
    "print(r)\n",
    "print(line_eq)"
   ]
  },
  {
   "cell_type": "markdown",
   "metadata": {
    "id": "KIw0zoef7VDC"
   },
   "source": [
    "The r values and graph indicate there is not a strong relationship between cloudiness and latitude in the southern hemisphere. The data does not clump nearly as much as the northern hemisphere data does. "
   ]
  },
  {
   "cell_type": "markdown",
   "metadata": {
    "id": "hJVLHAZc7VDC"
   },
   "source": [
    "####  Northern Hemisphere - Wind Speed (mph) vs. Latitude Linear Regression"
   ]
  },
  {
   "cell_type": "code",
   "execution_count": 48,
   "metadata": {
    "colab": {
     "base_uri": "https://localhost:8080/",
     "height": 314
    },
    "id": "tOtsCf7_7VDD",
    "outputId": "466111a2-520f-4319-a704-351fb306ea9e"
   },
   "outputs": [
    {
     "data": {
      "image/png": "[encoded data removed]",
      "text/plain": [
       "<Figure size 432x288 with 1 Axes>"
      ]
     },
     "metadata": {
      "needs_background": "light"
     },
     "output_type": "display_data"
    },
    {
     "name": "stdout",
     "output_type": "stream",
     "text": [
      "The r-value is : 0.11934785131569728\n",
      "y = 0.03x +6.48\n"
     ]
    }
   ],
   "source": [
    "weather_df_north.plot(kind = \"scatter\",x=\"Lat\",y=\"Wind Speed\")\n",
    "\n",
    "m,b,r,p,stdev = linregress(weather_df_north[\"Lat\"], weather_df_north[\"Wind Speed\"])\n",
    "plt.plot(np.linspace(0,90),b + m*np.linspace(0,90), color = \"red\")\n",
    "plt.savefig(r\"C:\\Users\\brand\\Downloads\\Bootcamp\\homework-repos\\python-api-challenge\\Images\\LRLatvWindN\")\n",
    "plt.show()\n",
    "line_eq = \"y = \" + str(round(m,2)) + \"x +\" + str(round(b,2))\n",
    "r =f\"The r-value is : {r}\"\n",
    "print(r)\n",
    "print(line_eq)"
   ]
  },
  {
   "cell_type": "markdown",
   "metadata": {},
   "source": [
    "As indicated by the graph and r-value the relationship between wind speed and latitude in the northern hemisphere is not very strong. The data mostly clumps between speeds of 0-10."
   ]
  },
  {
   "cell_type": "markdown",
   "metadata": {
    "id": "PbyegWmR7VDD"
   },
   "source": [
    "####  Southern Hemisphere - Wind Speed (mph) vs. Latitude Linear Regression"
   ]
  },
  {
   "cell_type": "code",
   "execution_count": 49,
   "metadata": {
    "colab": {
     "base_uri": "https://localhost:8080/",
     "height": 314
    },
    "id": "E9UuQhCh7VDD",
    "outputId": "24b00a1b-d03d-4b8d-f63a-3002ddec9e95"
   },
   "outputs": [
    {
     "data": {
      "image/png": "[encoded data removed]",
      "text/plain": [
       "<Figure size 432x288 with 1 Axes>"
      ]
     },
     "metadata": {
      "needs_background": "light"
     },
     "output_type": "display_data"
    },
    {
     "name": "stdout",
     "output_type": "stream",
     "text": [
      "The r-value is : -0.07243486325650035\n",
      "y = -0.03x +7.51\n"
     ]
    }
   ],
   "source": [
    "weather_df_south.plot(kind = \"scatter\",x=\"Lat\",y=\"Wind Speed\")\n",
    "m,b,r,p,stdev = linregress(weather_df_south[\"Lat\"], weather_df_south[\"Wind Speed\"])\n",
    "plt.plot(np.linspace(-90,0),b + m*np.linspace(-90,0), color = \"red\")\n",
    "plt.savefig(r\"C:\\Users\\brand\\Downloads\\Bootcamp\\homework-repos\\python-api-challenge\\Images\\LRLatvWindS\")\n",
    "plt.show()\n",
    "line_eq = \"y = \" + str(round(m,2)) + \"x +\" + str(round(b,2))\n",
    "r =f\"The r-value is : {r}\"\n",
    "print(r)\n",
    "print(line_eq)"
   ]
  },
  {
   "cell_type": "markdown",
   "metadata": {},
   "source": [
    "The graph and linear regression indicate that there is little to no relationship between the wind speed and latitude in teh southern hemisphere."
   ]
  },
  {
   "cell_type": "code",
   "execution_count": 53,
   "metadata": {
    "colab": {
     "base_uri": "https://localhost:8080/"
    },
    "id": "nA3gxqXnkY_0",
    "outputId": "41a7ba9e-8911-4d28-cec6-2e514e555691"
   },
   "outputs": [
    {
     "name": "stdout",
     "output_type": "stream",
     "text": [
      "Collecting gmaps\n",
      "  Downloading gmaps-0.9.0.tar.gz (1.1 MB)\n",
      "Requirement already satisfied: ipython>=5.3.0 in c:\\users\\brand\\appdata\\roaming\\python\\python38\\site-packages (from gmaps) (8.1.1)\n",
      "Requirement already satisfied: ipywidgets>=7.0.0 in c:\\users\\brand\\anaconda3\\lib\\site-packages (from gmaps) (7.6.5)\n",
      "Requirement already satisfied: traitlets>=4.3.0 in c:\\users\\brand\\appdata\\roaming\\python\\python38\\site-packages (from gmaps) (5.1.1)\n",
      "Collecting geojson>=2.0.0\n",
      "  Downloading geojson-2.5.0-py2.py3-none-any.whl (14 kB)\n",
      "Requirement already satisfied: six in c:\\users\\brand\\appdata\\roaming\\python\\python38\\site-packages (from gmaps) (1.16.0)\n",
      "Requirement already satisfied: pickleshare in c:\\users\\brand\\appdata\\roaming\\python\\python38\\site-packages (from ipython>=5.3.0->gmaps) (0.7.5)\n",
      "Requirement already satisfied: backcall in c:\\users\\brand\\appdata\\roaming\\python\\python38\\site-packages (from ipython>=5.3.0->gmaps) (0.2.0)\n",
      "Requirement already satisfied: colorama in c:\\users\\brand\\appdata\\roaming\\python\\python38\\site-packages (from ipython>=5.3.0->gmaps) (0.4.4)\n",
      "Requirement already satisfied: matplotlib-inline in c:\\users\\brand\\appdata\\roaming\\python\\python38\\site-packages (from ipython>=5.3.0->gmaps) (0.1.3)\n",
      "Requirement already satisfied: prompt-toolkit!=3.0.0,!=3.0.1,<3.1.0,>=2.0.0 in c:\\users\\brand\\appdata\\roaming\\python\\python38\\site-packages (from ipython>=5.3.0->gmaps) (3.0.28)\n",
      "Requirement already satisfied: setuptools>=18.5 in c:\\users\\brand\\anaconda3\\lib\\site-packages (from ipython>=5.3.0->gmaps) (58.0.4)\n",
      "Requirement already satisfied: stack-data in c:\\users\\brand\\appdata\\roaming\\python\\python38\\site-packages (from ipython>=5.3.0->gmaps) (0.2.0)\n",
      "Requirement already satisfied: decorator in c:\\users\\brand\\appdata\\roaming\\python\\python38\\site-packages (from ipython>=5.3.0->gmaps) (5.1.1)\n",
      "Requirement already satisfied: jedi>=0.16 in c:\\users\\brand\\appdata\\roaming\\python\\python38\\site-packages (from ipython>=5.3.0->gmaps) (0.18.1)\n",
      "Requirement already satisfied: pygments>=2.4.0 in c:\\users\\brand\\appdata\\roaming\\python\\python38\\site-packages (from ipython>=5.3.0->gmaps) (2.11.2)\n",
      "Requirement already satisfied: nbformat>=4.2.0 in c:\\users\\brand\\anaconda3\\lib\\site-packages (from ipywidgets>=7.0.0->gmaps) (5.1.3)\n",
      "Requirement already satisfied: ipykernel>=4.5.1 in c:\\users\\brand\\appdata\\roaming\\python\\python38\\site-packages (from ipywidgets>=7.0.0->gmaps) (6.9.2)\n",
      "Requirement already satisfied: ipython-genutils~=0.2.0 in c:\\users\\brand\\anaconda3\\lib\\site-packages (from ipywidgets>=7.0.0->gmaps) (0.2.0)\n",
      "Requirement already satisfied: jupyterlab-widgets>=1.0.0 in c:\\users\\brand\\anaconda3\\lib\\site-packages (from ipywidgets>=7.0.0->gmaps) (1.0.0)\n",
      "Requirement already satisfied: widgetsnbextension~=3.5.0 in c:\\users\\brand\\anaconda3\\lib\\site-packages (from ipywidgets>=7.0.0->gmaps) (3.5.1)\n",
      "Requirement already satisfied: nest-asyncio in c:\\users\\brand\\appdata\\roaming\\python\\python38\\site-packages (from ipykernel>=4.5.1->ipywidgets>=7.0.0->gmaps) (1.5.4)\n",
      "Requirement already satisfied: tornado<7.0,>=4.2 in c:\\users\\brand\\appdata\\roaming\\python\\python38\\site-packages (from ipykernel>=4.5.1->ipywidgets>=7.0.0->gmaps) (6.1)\n",
      "Requirement already satisfied: debugpy<2.0,>=1.0.0 in c:\\users\\brand\\appdata\\roaming\\python\\python38\\site-packages (from ipykernel>=4.5.1->ipywidgets>=7.0.0->gmaps) (1.5.1)\n",
      "Requirement already satisfied: jupyter-client<8.0 in c:\\users\\brand\\appdata\\roaming\\python\\python38\\site-packages (from ipykernel>=4.5.1->ipywidgets>=7.0.0->gmaps) (7.1.2)\n",
      "Requirement already satisfied: psutil in c:\\users\\brand\\appdata\\roaming\\python\\python38\\site-packages (from ipykernel>=4.5.1->ipywidgets>=7.0.0->gmaps) (5.9.0)\n",
      "Requirement already satisfied: parso<0.9.0,>=0.8.0 in c:\\users\\brand\\appdata\\roaming\\python\\python38\\site-packages (from jedi>=0.16->ipython>=5.3.0->gmaps) (0.8.3)\n",
      "Requirement already satisfied: jupyter-core>=4.6.0 in c:\\users\\brand\\appdata\\roaming\\python\\python38\\site-packages (from jupyter-client<8.0->ipykernel>=4.5.1->ipywidgets>=7.0.0->gmaps) (4.9.2)\n",
      "Requirement already satisfied: pyzmq>=13 in c:\\users\\brand\\appdata\\roaming\\python\\python38\\site-packages (from jupyter-client<8.0->ipykernel>=4.5.1->ipywidgets>=7.0.0->gmaps) (22.3.0)\n",
      "Requirement already satisfied: entrypoints in c:\\users\\brand\\appdata\\roaming\\python\\python38\\site-packages (from jupyter-client<8.0->ipykernel>=4.5.1->ipywidgets>=7.0.0->gmaps) (0.4)\n",
      "Requirement already satisfied: python-dateutil>=2.1 in c:\\users\\brand\\appdata\\roaming\\python\\python38\\site-packages (from jupyter-client<8.0->ipykernel>=4.5.1->ipywidgets>=7.0.0->gmaps) (2.8.2)\n",
      "Requirement already satisfied: pywin32>=1.0 in c:\\users\\brand\\appdata\\roaming\\python\\python38\\site-packages (from jupyter-core>=4.6.0->jupyter-client<8.0->ipykernel>=4.5.1->ipywidgets>=7.0.0->gmaps) (303)\n",
      "Requirement already satisfied: jsonschema!=2.5.0,>=2.4 in c:\\users\\brand\\anaconda3\\lib\\site-packages (from nbformat>=4.2.0->ipywidgets>=7.0.0->gmaps) (3.2.0)\n",
      "Requirement already satisfied: attrs>=17.4.0 in c:\\users\\brand\\anaconda3\\lib\\site-packages (from jsonschema!=2.5.0,>=2.4->nbformat>=4.2.0->ipywidgets>=7.0.0->gmaps) (21.4.0)\n",
      "Requirement already satisfied: pyrsistent>=0.14.0 in c:\\users\\brand\\anaconda3\\lib\\site-packages (from jsonschema!=2.5.0,>=2.4->nbformat>=4.2.0->ipywidgets>=7.0.0->gmaps) (0.18.0)\n",
      "Requirement already satisfied: wcwidth in c:\\users\\brand\\appdata\\roaming\\python\\python38\\site-packages (from prompt-toolkit!=3.0.0,!=3.0.1,<3.1.0,>=2.0.0->ipython>=5.3.0->gmaps) (0.2.5)\n",
      "Requirement already satisfied: notebook>=4.4.1 in c:\\users\\brand\\anaconda3\\lib\\site-packages (from widgetsnbextension~=3.5.0->ipywidgets>=7.0.0->gmaps) (6.4.6)\n",
      "Requirement already satisfied: terminado>=0.8.3 in c:\\users\\brand\\anaconda3\\lib\\site-packages (from notebook>=4.4.1->widgetsnbextension~=3.5.0->ipywidgets>=7.0.0->gmaps) (0.13.1)\n",
      "Requirement already satisfied: argon2-cffi in c:\\users\\brand\\anaconda3\\lib\\site-packages (from notebook>=4.4.1->widgetsnbextension~=3.5.0->ipywidgets>=7.0.0->gmaps) (20.1.0)\n",
      "Requirement already satisfied: prometheus-client in c:\\users\\brand\\anaconda3\\lib\\site-packages (from notebook>=4.4.1->widgetsnbextension~=3.5.0->ipywidgets>=7.0.0->gmaps) (0.13.1)\n",
      "Requirement already satisfied: jinja2 in c:\\users\\brand\\anaconda3\\lib\\site-packages (from notebook>=4.4.1->widgetsnbextension~=3.5.0->ipywidgets>=7.0.0->gmaps) (2.11.3)\n",
      "Requirement already satisfied: Send2Trash>=1.8.0 in c:\\users\\brand\\anaconda3\\lib\\site-packages (from notebook>=4.4.1->widgetsnbextension~=3.5.0->ipywidgets>=7.0.0->gmaps) (1.8.0)\n",
      "Requirement already satisfied: nbconvert in c:\\users\\brand\\anaconda3\\lib\\site-packages (from notebook>=4.4.1->widgetsnbextension~=3.5.0->ipywidgets>=7.0.0->gmaps) (6.1.0)\n",
      "Requirement already satisfied: pywinpty>=1.1.0 in c:\\users\\brand\\anaconda3\\lib\\site-packages (from terminado>=0.8.3->notebook>=4.4.1->widgetsnbextension~=3.5.0->ipywidgets>=7.0.0->gmaps) (2.0.2)\n",
      "Requirement already satisfied: cffi>=1.0.0 in c:\\users\\brand\\anaconda3\\lib\\site-packages (from argon2-cffi->notebook>=4.4.1->widgetsnbextension~=3.5.0->ipywidgets>=7.0.0->gmaps) (1.15.0)\n",
      "Requirement already satisfied: pycparser in c:\\users\\brand\\anaconda3\\lib\\site-packages (from cffi>=1.0.0->argon2-cffi->notebook>=4.4.1->widgetsnbextension~=3.5.0->ipywidgets>=7.0.0->gmaps) (2.21)\n",
      "Requirement already satisfied: MarkupSafe>=0.23 in c:\\users\\brand\\anaconda3\\lib\\site-packages (from jinja2->notebook>=4.4.1->widgetsnbextension~=3.5.0->ipywidgets>=7.0.0->gmaps) (1.1.1)\n",
      "Requirement already satisfied: nbclient<0.6.0,>=0.5.0 in c:\\users\\brand\\anaconda3\\lib\\site-packages (from nbconvert->notebook>=4.4.1->widgetsnbextension~=3.5.0->ipywidgets>=7.0.0->gmaps) (0.5.3)\n",
      "Requirement already satisfied: pandocfilters>=1.4.1 in c:\\users\\brand\\anaconda3\\lib\\site-packages (from nbconvert->notebook>=4.4.1->widgetsnbextension~=3.5.0->ipywidgets>=7.0.0->gmaps) (1.5.0)\n",
      "Requirement already satisfied: defusedxml in c:\\users\\brand\\anaconda3\\lib\\site-packages (from nbconvert->notebook>=4.4.1->widgetsnbextension~=3.5.0->ipywidgets>=7.0.0->gmaps) (0.7.1)\n",
      "Requirement already satisfied: jupyterlab-pygments in c:\\users\\brand\\anaconda3\\lib\\site-packages (from nbconvert->notebook>=4.4.1->widgetsnbextension~=3.5.0->ipywidgets>=7.0.0->gmaps) (0.1.2)\n",
      "Requirement already satisfied: bleach in c:\\users\\brand\\anaconda3\\lib\\site-packages (from nbconvert->notebook>=4.4.1->widgetsnbextension~=3.5.0->ipywidgets>=7.0.0->gmaps) (4.1.0)\n",
      "Requirement already satisfied: mistune<2,>=0.8.1 in c:\\users\\brand\\anaconda3\\lib\\site-packages (from nbconvert->notebook>=4.4.1->widgetsnbextension~=3.5.0->ipywidgets>=7.0.0->gmaps) (0.8.4)\n",
      "Requirement already satisfied: testpath in c:\\users\\brand\\anaconda3\\lib\\site-packages (from nbconvert->notebook>=4.4.1->widgetsnbextension~=3.5.0->ipywidgets>=7.0.0->gmaps) (0.5.0)\n",
      "Requirement already satisfied: async-generator in c:\\users\\brand\\anaconda3\\lib\\site-packages (from nbclient<0.6.0,>=0.5.0->nbconvert->notebook>=4.4.1->widgetsnbextension~=3.5.0->ipywidgets>=7.0.0->gmaps) (1.10)\n",
      "Requirement already satisfied: packaging in c:\\users\\brand\\anaconda3\\lib\\site-packages (from bleach->nbconvert->notebook>=4.4.1->widgetsnbextension~=3.5.0->ipywidgets>=7.0.0->gmaps) (21.3)\n",
      "Requirement already satisfied: webencodings in c:\\users\\brand\\anaconda3\\lib\\site-packages (from bleach->nbconvert->notebook>=4.4.1->widgetsnbextension~=3.5.0->ipywidgets>=7.0.0->gmaps) (0.5.1)\n",
      "Requirement already satisfied: pyparsing!=3.0.5,>=2.0.2 in c:\\users\\brand\\anaconda3\\lib\\site-packages (from packaging->bleach->nbconvert->notebook>=4.4.1->widgetsnbextension~=3.5.0->ipywidgets>=7.0.0->gmaps) (3.0.4)\n",
      "Requirement already satisfied: pure-eval in c:\\users\\brand\\appdata\\roaming\\python\\python38\\site-packages (from stack-data->ipython>=5.3.0->gmaps) (0.2.2)\n",
      "Requirement already satisfied: asttokens in c:\\users\\brand\\appdata\\roaming\\python\\python38\\site-packages (from stack-data->ipython>=5.3.0->gmaps) (2.0.5)\n",
      "Requirement already satisfied: executing in c:\\users\\brand\\appdata\\roaming\\python\\python38\\site-packages (from stack-data->ipython>=5.3.0->gmaps) (0.8.3)\n",
      "Building wheels for collected packages: gmaps\n",
      "  Building wheel for gmaps (setup.py): started\n",
      "  Building wheel for gmaps (setup.py): finished with status 'done'\n",
      "  Created wheel for gmaps: filename=gmaps-0.9.0-py2.py3-none-any.whl size=2076111 sha256=a6f7676702a2d0e1d908bb2816a33048e86732f91dbca4036856bcf728c93dde\n",
      "  Stored in directory: c:\\users\\brand\\appdata\\local\\pip\\cache\\wheels\\30\\bd\\87\\d0d731ee712c34a4d6bace8b1dbf8c8932e22a1625b4a55be4\n",
      "Successfully built gmaps\n",
      "Installing collected packages: geojson, gmaps\n",
      "Successfully installed geojson-2.5.0 gmaps-0.9.0\n",
      "Note: you may need to restart the kernel to use updated packages.\n"
     ]
    }
   ],
   "source": [
    "pip install gmaps"
   ]
  },
  {
   "cell_type": "code",
   "execution_count": 56,
   "metadata": {
    "id": "HpJbMiaEkXIc"
   },
   "outputs": [
    {
     "ename": "ModuleNotFoundError",
     "evalue": "No module named 'google.colab'",
     "output_type": "error",
     "traceback": [
      "\u001b[1;31m---------------------------------------------------------------------------\u001b[0m",
      "\u001b[1;31mModuleNotFoundError\u001b[0m                       Traceback (most recent call last)",
      "Input \u001b[1;32mIn [56]\u001b[0m, in \u001b[0;36m<cell line: 3>\u001b[1;34m()\u001b[0m\n\u001b[0;32m      1\u001b[0m \u001b[38;5;28;01mimport\u001b[39;00m \u001b[38;5;21;01mgmaps\u001b[39;00m\n\u001b[0;32m      2\u001b[0m \u001b[38;5;28;01mimport\u001b[39;00m \u001b[38;5;21;01mos\u001b[39;00m\n\u001b[1;32m----> 3\u001b[0m \u001b[38;5;28;01mfrom\u001b[39;00m \u001b[38;5;21;01mgoogle\u001b[39;00m\u001b[38;5;21;01m.\u001b[39;00m\u001b[38;5;21;01mcolab\u001b[39;00m \u001b[38;5;28;01mimport\u001b[39;00m output\n\u001b[0;32m      4\u001b[0m output\u001b[38;5;241m.\u001b[39menable_custom_widget_manager()\n",
      "\u001b[1;31mModuleNotFoundError\u001b[0m: No module named 'google.colab'"
     ]
    }
   ],
   "source": [
    "import gmaps\n",
    "import os"
   ]
  },
  {
   "cell_type": "code",
   "execution_count": 51,
   "metadata": {
    "colab": {
     "base_uri": "https://localhost:8080/",
     "height": 206
    },
    "id": "gXuuH1DR7VDD",
    "outputId": "a87c31f6-e0c1-429b-81e8-fbc329e66d0f"
   },
   "outputs": [
    {
     "data": {
      "text/html": [
       "<div>\n",
       "<style scoped>\n",
       "    .dataframe tbody tr th:only-of-type {\n",
       "        vertical-align: middle;\n",
       "    }\n",
       "\n",
       "    .dataframe tbody tr th {\n",
       "        vertical-align: top;\n",
       "    }\n",
       "\n",
       "    .dataframe thead th {\n",
       "        text-align: right;\n",
       "    }\n",
       "</style>\n",
       "<table border=\"1\" class=\"dataframe\">\n",
       "  <thead>\n",
       "    <tr style=\"text-align: right;\">\n",
       "      <th></th>\n",
       "      <th>Unnamed: 0</th>\n",
       "      <th>City</th>\n",
       "      <th>Lat</th>\n",
       "      <th>Lng</th>\n",
       "      <th>Max Temp</th>\n",
       "      <th>Humidity</th>\n",
       "      <th>Cloudiness</th>\n",
       "      <th>Wind Speed</th>\n",
       "      <th>Country</th>\n",
       "      <th>Date</th>\n",
       "    </tr>\n",
       "  </thead>\n",
       "  <tbody>\n",
       "    <tr>\n",
       "      <th>0</th>\n",
       "      <td>0</td>\n",
       "      <td>mataura</td>\n",
       "      <td>-46.193952</td>\n",
       "      <td>168.865478</td>\n",
       "      <td>55.80</td>\n",
       "      <td>55</td>\n",
       "      <td>100</td>\n",
       "      <td>2.55</td>\n",
       "      <td>NZ</td>\n",
       "      <td>1662940196</td>\n",
       "    </tr>\n",
       "    <tr>\n",
       "      <th>1</th>\n",
       "      <td>1</td>\n",
       "      <td>zhigansk</td>\n",
       "      <td>66.752064</td>\n",
       "      <td>123.394112</td>\n",
       "      <td>36.86</td>\n",
       "      <td>83</td>\n",
       "      <td>41</td>\n",
       "      <td>9.69</td>\n",
       "      <td>RU</td>\n",
       "      <td>1662940197</td>\n",
       "    </tr>\n",
       "    <tr>\n",
       "      <th>2</th>\n",
       "      <td>2</td>\n",
       "      <td>butaritari</td>\n",
       "      <td>3.116667</td>\n",
       "      <td>172.800000</td>\n",
       "      <td>82.06</td>\n",
       "      <td>71</td>\n",
       "      <td>89</td>\n",
       "      <td>10.74</td>\n",
       "      <td>KI</td>\n",
       "      <td>1662940197</td>\n",
       "    </tr>\n",
       "    <tr>\n",
       "      <th>3</th>\n",
       "      <td>3</td>\n",
       "      <td>punta arenas</td>\n",
       "      <td>-53.163384</td>\n",
       "      <td>-70.907826</td>\n",
       "      <td>43.09</td>\n",
       "      <td>61</td>\n",
       "      <td>40</td>\n",
       "      <td>17.27</td>\n",
       "      <td>CL</td>\n",
       "      <td>1662940198</td>\n",
       "    </tr>\n",
       "    <tr>\n",
       "      <th>4</th>\n",
       "      <td>4</td>\n",
       "      <td>rikitea</td>\n",
       "      <td>-23.122303</td>\n",
       "      <td>-134.969154</td>\n",
       "      <td>73.13</td>\n",
       "      <td>73</td>\n",
       "      <td>3</td>\n",
       "      <td>5.41</td>\n",
       "      <td>PF</td>\n",
       "      <td>1662940199</td>\n",
       "    </tr>\n",
       "  </tbody>\n",
       "</table>\n",
       "</div>"
      ],
      "text/plain": [
       "   Unnamed: 0          City        Lat         Lng  Max Temp  Humidity  \\\n",
       "0           0       mataura -46.193952  168.865478     55.80        55   \n",
       "1           1      zhigansk  66.752064  123.394112     36.86        83   \n",
       "2           2    butaritari   3.116667  172.800000     82.06        71   \n",
       "3           3  punta arenas -53.163384  -70.907826     43.09        61   \n",
       "4           4       rikitea -23.122303 -134.969154     73.13        73   \n",
       "\n",
       "   Cloudiness  Wind Speed Country        Date  \n",
       "0         100        2.55      NZ  1662940196  \n",
       "1          41        9.69      RU  1662940197  \n",
       "2          89       10.74      KI  1662940197  \n",
       "3          40       17.27      CL  1662940198  \n",
       "4           3        5.41      PF  1662940199  "
      ]
     },
     "execution_count": 51,
     "metadata": {},
     "output_type": "execute_result"
    }
   ],
   "source": [
    "weather_df.to_csv(\"weather.csv\")\n",
    "weather_df2 = pd.read_csv(\"weather.csv\")\n",
    "weather_df2.head()"
   ]
  },
  {
   "cell_type": "code",
   "execution_count": 52,
   "metadata": {
    "colab": {
     "base_uri": "https://localhost:8080/",
     "height": 465,
     "referenced_widgets": [
      "5658843f1e2b459eaf4ff3097848a0fa",
      "91ed9ad34cad46d8889024c1b55f9f9c",
      "3eaeef19a1ec4cc985949fef96b715dc",
      "4dbc01b395bb4af39441826902cff62c",
      "046a0a23d1b44b70abf6590bed0e711d",
      "19e3e15563f942398e18221c8b532f67",
      "83998822da324e8d8579dd815043f6b0",
      "9acd6e0cd99b492c83d7458fe516d846",
      "29278392c39d472eac383d59f1ecb1a4"
     ]
    },
    "id": "ZQ5AbM2cmABi",
    "outputId": "3e1df12a-0ec7-4d22-e185-afe75f1d605c"
   },
   "outputs": [
    {
     "data": {
      "application/vnd.jupyter.widget-view+json": {
       "model_id": "94de428c4685408eabef700cbd72bde7",
       "version_major": 2,
       "version_minor": 0
      },
      "text/plain": [
       "Figure(layout=FigureLayout(height='420px'))"
      ]
     },
     "metadata": {},
     "output_type": "display_data"
    }
   ],
   "source": [
    "locations = weather_df[[\"Lat\" , \"Lng\"]]\n",
    "fig = gmaps.figure(map_type='HYBRID')\n",
    "heatmap_layer = gmaps.heatmap_layer(locations , weights=weather_df['Humidity'],max_intensity=100,point_radius=30)\n",
    "fig.add_layer(heatmap_layer)\n",
    "fig"
   ]
  },
  {
   "cell_type": "code",
   "execution_count": 53,
   "metadata": {
    "colab": {
     "base_uri": "https://localhost:8080/",
     "height": 206
    },
    "id": "8dYCweh9mYmg",
    "outputId": "782946cc-248c-4367-fcb5-ec488496eba8"
   },
   "outputs": [
    {
     "data": {
      "text/html": [
       "<div>\n",
       "<style scoped>\n",
       "    .dataframe tbody tr th:only-of-type {\n",
       "        vertical-align: middle;\n",
       "    }\n",
       "\n",
       "    .dataframe tbody tr th {\n",
       "        vertical-align: top;\n",
       "    }\n",
       "\n",
       "    .dataframe thead th {\n",
       "        text-align: right;\n",
       "    }\n",
       "</style>\n",
       "<table border=\"1\" class=\"dataframe\">\n",
       "  <thead>\n",
       "    <tr style=\"text-align: right;\">\n",
       "      <th></th>\n",
       "      <th>index</th>\n",
       "      <th>City</th>\n",
       "      <th>Lat</th>\n",
       "      <th>Lng</th>\n",
       "      <th>Max Temp</th>\n",
       "      <th>Humidity</th>\n",
       "      <th>Cloudiness</th>\n",
       "      <th>Wind Speed</th>\n",
       "      <th>Country</th>\n",
       "      <th>Date</th>\n",
       "    </tr>\n",
       "  </thead>\n",
       "  <tbody>\n",
       "    <tr>\n",
       "      <th>0</th>\n",
       "      <td>178</td>\n",
       "      <td>fortuna</td>\n",
       "      <td>40.598187</td>\n",
       "      <td>-124.157276</td>\n",
       "      <td>71.92</td>\n",
       "      <td>79</td>\n",
       "      <td>0</td>\n",
       "      <td>8.05</td>\n",
       "      <td>US</td>\n",
       "      <td>1662940293</td>\n",
       "    </tr>\n",
       "    <tr>\n",
       "      <th>1</th>\n",
       "      <td>190</td>\n",
       "      <td>nador</td>\n",
       "      <td>35.168616</td>\n",
       "      <td>-2.927584</td>\n",
       "      <td>77.25</td>\n",
       "      <td>88</td>\n",
       "      <td>0</td>\n",
       "      <td>3.44</td>\n",
       "      <td>MA</td>\n",
       "      <td>1662940299</td>\n",
       "    </tr>\n",
       "    <tr>\n",
       "      <th>2</th>\n",
       "      <td>206</td>\n",
       "      <td>shangqiu</td>\n",
       "      <td>34.414270</td>\n",
       "      <td>115.656350</td>\n",
       "      <td>73.38</td>\n",
       "      <td>64</td>\n",
       "      <td>0</td>\n",
       "      <td>2.26</td>\n",
       "      <td>CN</td>\n",
       "      <td>1662940307</td>\n",
       "    </tr>\n",
       "    <tr>\n",
       "      <th>3</th>\n",
       "      <td>241</td>\n",
       "      <td>los llanos de aridane</td>\n",
       "      <td>28.657722</td>\n",
       "      <td>-17.912202</td>\n",
       "      <td>71.26</td>\n",
       "      <td>84</td>\n",
       "      <td>0</td>\n",
       "      <td>5.99</td>\n",
       "      <td>ES</td>\n",
       "      <td>1662940325</td>\n",
       "    </tr>\n",
       "    <tr>\n",
       "      <th>4</th>\n",
       "      <td>293</td>\n",
       "      <td>cayenne</td>\n",
       "      <td>4.922420</td>\n",
       "      <td>-52.313453</td>\n",
       "      <td>76.91</td>\n",
       "      <td>88</td>\n",
       "      <td>0</td>\n",
       "      <td>0.00</td>\n",
       "      <td>GF</td>\n",
       "      <td>1662940353</td>\n",
       "    </tr>\n",
       "  </tbody>\n",
       "</table>\n",
       "</div>"
      ],
      "text/plain": [
       "   index                   City        Lat         Lng  Max Temp  Humidity  \\\n",
       "0    178                fortuna  40.598187 -124.157276     71.92        79   \n",
       "1    190                  nador  35.168616   -2.927584     77.25        88   \n",
       "2    206               shangqiu  34.414270  115.656350     73.38        64   \n",
       "3    241  los llanos de aridane  28.657722  -17.912202     71.26        84   \n",
       "4    293                cayenne   4.922420  -52.313453     76.91        88   \n",
       "\n",
       "   Cloudiness  Wind Speed Country        Date  \n",
       "0           0        8.05      US  1662940293  \n",
       "1           0        3.44      MA  1662940299  \n",
       "2           0        2.26      CN  1662940307  \n",
       "3           0        5.99      ES  1662940325  \n",
       "4           0        0.00      GF  1662940353  "
      ]
     },
     "execution_count": 53,
     "metadata": {},
     "output_type": "execute_result"
    }
   ],
   "source": [
    "vacation_df = weather_df.loc[(weather_df[\"Max Temp\"]>70 )&(weather_df[\"Max Temp\"]<80)&(weather_df[\"Wind Speed\"]<10)&(weather_df[\"Cloudiness\"] == 0)]\n",
    "vacation_df = vacation_df.reset_index()\n",
    "hotel_df= pd.DataFrame()\n",
    "hotel_df[\"City\"]= vacation_df[\"City\"]\n",
    "hotel_df[\"Lat\"] = vacation_df[\"Lat\"]\n",
    "hotel_df[\"Lng\"] = vacation_df[\"Lng\"]\n",
    "hotel_df[\"Country\"] = vacation_df[\"Country\"]\n",
    "hotel_df[\"Hotel Name\"] = \"\"\n",
    "hotel_df[\"Rating\"] = \"\"\n",
    "vacation_df.head()"
   ]
  },
  {
   "cell_type": "code",
   "execution_count": 54,
   "metadata": {
    "colab": {
     "base_uri": "https://localhost:8080/"
    },
    "id": "bts59BvsmMUb",
    "outputId": "c5f885f8-8153-4a01-99f9-3d5b40bdb107"
   },
   "outputs": [
    {
     "name": "stdout",
     "output_type": "stream",
     "text": [
      "dict_keys(['business_status', 'geometry', 'icon', 'icon_background_color', 'icon_mask_base_uri', 'name', 'place_id', 'plus_code', 'reference', 'scope', 'types', 'vicinity'])\n",
      "Closest hotel is sam Glass trucking.\n",
      "Missing field/result... skipping.\n",
      "------------\n",
      "dict_keys(['business_status', 'geometry', 'icon', 'icon_background_color', 'icon_mask_base_uri', 'name', 'opening_hours', 'place_id', 'plus_code', 'reference', 'scope', 'types', 'vicinity'])\n",
      "Closest hotel is BioCoin Restaurant.\n",
      "Missing field/result... skipping.\n",
      "------------\n",
      "dict_keys(['business_status', 'geometry', 'icon', 'icon_background_color', 'icon_mask_base_uri', 'name', 'place_id', 'reference', 'scope', 'types', 'vicinity'])\n",
      "Closest hotel is 商丘市纪检委.\n",
      "Missing field/result... skipping.\n",
      "------------\n",
      "dict_keys(['business_status', 'geometry', 'icon', 'icon_background_color', 'icon_mask_base_uri', 'name', 'opening_hours', 'photos', 'place_id', 'plus_code', 'rating', 'reference', 'scope', 'types', 'user_ratings_total', 'vicinity'])\n",
      "Closest hotel is BARROSO ASESORES.\n",
      "------------\n",
      "dict_keys(['business_status', 'geometry', 'icon', 'icon_background_color', 'icon_mask_base_uri', 'name', 'place_id', 'plus_code', 'reference', 'scope', 'types', 'vicinity'])\n",
      "Closest hotel is Cacao market.\n",
      "Missing field/result... skipping.\n",
      "------------\n",
      "dict_keys(['business_status', 'geometry', 'icon', 'icon_background_color', 'icon_mask_base_uri', 'name', 'place_id', 'reference', 'scope', 'types', 'vicinity'])\n",
      "Closest hotel is A101.\n",
      "Missing field/result... skipping.\n",
      "------------\n",
      "dict_keys(['business_status', 'geometry', 'icon', 'icon_background_color', 'icon_mask_base_uri', 'name', 'opening_hours', 'photos', 'place_id', 'plus_code', 'reference', 'scope', 'types', 'vicinity'])\n",
      "Closest hotel is Sucess Conserto's.\n",
      "Missing field/result... skipping.\n",
      "------------\n",
      "dict_keys(['business_status', 'geometry', 'icon', 'icon_background_color', 'icon_mask_base_uri', 'name', 'place_id', 'plus_code', 'reference', 'scope', 'types', 'vicinity'])\n",
      "Closest hotel is Pardisan carpet factory.\n",
      "Missing field/result... skipping.\n",
      "------------\n",
      "dict_keys(['business_status', 'geometry', 'icon', 'icon_background_color', 'icon_mask_base_uri', 'name', 'place_id', 'plus_code', 'reference', 'scope', 'types', 'vicinity'])\n",
      "Closest hotel is Kumul Administration Government Office.\n",
      "Missing field/result... skipping.\n",
      "------------\n",
      "dict_keys(['business_status', 'geometry', 'icon', 'icon_background_color', 'icon_mask_base_uri', 'name', 'place_id', 'plus_code', 'reference', 'scope', 'types', 'vicinity'])\n",
      "Closest hotel is Zibo Boshan National People's Congress Standing Committee.\n",
      "Missing field/result... skipping.\n",
      "------------\n",
      "dict_keys(['business_status', 'geometry', 'icon', 'icon_background_color', 'icon_mask_base_uri', 'name', 'photos', 'place_id', 'plus_code', 'rating', 'reference', 'scope', 'types', 'user_ratings_total', 'vicinity'])\n",
      "Closest hotel is South Dakota Cattlemen's Association.\n",
      "------------\n",
      "dict_keys(['business_status', 'geometry', 'icon', 'icon_background_color', 'icon_mask_base_uri', 'name', 'place_id', 'plus_code', 'reference', 'scope', 'types', 'vicinity'])\n",
      "Closest hotel is Appartement Italie.\n",
      "Missing field/result... skipping.\n",
      "------------\n",
      "dict_keys(['business_status', 'geometry', 'icon', 'icon_background_color', 'icon_mask_base_uri', 'name', 'opening_hours', 'photos', 'place_id', 'plus_code', 'rating', 'reference', 'scope', 'types', 'user_ratings_total', 'vicinity'])\n",
      "Closest hotel is Steve sutton construction.\n",
      "------------\n",
      "dict_keys(['business_status', 'geometry', 'icon', 'icon_background_color', 'icon_mask_base_uri', 'name', 'place_id', 'plus_code', 'reference', 'scope', 'types', 'vicinity'])\n",
      "Closest hotel is BC SPCA.\n",
      "Missing field/result... skipping.\n",
      "------------\n",
      "dict_keys(['business_status', 'geometry', 'icon', 'icon_background_color', 'icon_mask_base_uri', 'name', 'place_id', 'rating', 'reference', 'scope', 'types', 'user_ratings_total', 'vicinity'])\n",
      "Closest hotel is EVKA OTOMOTİV.\n",
      "------------\n"
     ]
    }
   ],
   "source": [
    "base_url = \"https://maps.googleapis.com/maps/api/place/nearbysearch/json\"\n",
    "params = {\n",
    "    \"location\": \"\", \n",
    "    \"rankby\": \"distance\",\n",
    "    \"type\": \"hotel\",\n",
    "    \"key\": g_key,}\n",
    "for index, row in vacation_df.iterrows():\n",
    "  params[\"location\"] = f\"{row['Lat']},{row['Lng']}\"\n",
    "  response = requests.get(base_url, params=params).json()\n",
    "  result = response[\"results\"][0]\n",
    "  print(response[\"results\"][0].keys())\n",
    "  try:\n",
    "        name = response[\"results\"][0][\"name\"]\n",
    "        print(f\"Closest hotel is {name}.\")\n",
    "        \n",
    "        hotel_df.loc[index, 'Hotel Name'] = result['name']\n",
    "        hotel_df.loc[index, 'address'] = result['vicinity']\n",
    "        hotel_df.loc[index, 'rating'] = result['rating']\n",
    "        \n",
    "  except (KeyError, IndexError):\n",
    "        print(\"Missing field/result... skipping.\")\n",
    "  print(\"------------\")\n"
   ]
  },
  {
   "cell_type": "code",
   "execution_count": 55,
   "metadata": {
    "id": "DH0PDwkD6n-s"
   },
   "outputs": [
    {
     "data": {
      "application/vnd.jupyter.widget-view+json": {
       "model_id": "7670921c01ce4bc9a0c762795b241f09",
       "version_major": 2,
       "version_minor": 0
      },
      "text/plain": [
       "Figure(layout=FigureLayout(height='420px'))"
      ]
     },
     "metadata": {},
     "output_type": "display_data"
    }
   ],
   "source": [
    "hotel_df\n",
    "# NOTE: Do not change any of the code in this cell \n",
    "#i changed code in this cell\n",
    "\n",
    "# Using the template add the hotel marks to the heatmap\n",
    "info_box_template = \"\"\"\n",
    "<dl>\n",
    "<dt>Name</dt><dd>{Hotel Name}</dd>\n",
    "<dt>City</dt><dd>{City}</dd>\n",
    "<dt>Country</dt><dd>{Country}</dd>\n",
    "</dl>\n",
    "\"\"\"\n",
    "# Store the DataFrame Row\n",
    "# NOTE: be sure to update with your DataFrame name\n",
    "hotel_info = [info_box_template.format(**row) for index, row in hotel_df.iterrows()]\n",
    "locations = hotel_df[[\"Lat\", \"Lng\"]]\n",
    "marker_layer = gmaps.marker_layer(locations, info_box_content=hotel_info)\n",
    "fig = gmaps.figure()\n",
    "fig.add_layer(marker_layer)\n",
    "fig"
   ]
  },
  {
   "cell_type": "code",
   "execution_count": null,
   "metadata": {},
   "outputs": [],
   "source": []
  }
 ],
 "metadata": {
  "anaconda-cloud": {},
  "colab": {
   "collapsed_sections": [],
   "provenance": []
  },
  "kernel_info": {
   "name": "python3"
  },
  "kernelspec": {
   "display_name": "Python 3 (ipykernel)",
   "language": "python",
   "name": "python3"
  },
  "language_info": {
   "codemirror_mode": {
    "name": "ipython",
    "version": 3
   },
   "file_extension": ".py",
   "mimetype": "text/x-python",
   "name": "python",
   "nbconvert_exporter": "python",
   "pygments_lexer": "ipython3",
   "version": "3.8.5"
  },
  "latex_envs": {
   "LaTeX_envs_menu_present": true,
   "autoclose": false,
   "autocomplete": true,
   "bibliofile": "biblio.bib",
   "cite_by": "apalike",
   "current_citInitial": 1,
   "eqLabelWithNumbers": true,
   "eqNumInitial": 1,
   "hotkeys": {
    "equation": "Ctrl-E",
    "itemize": "Ctrl-I"
   },
   "labels_anchors": false,
   "latex_user_defs": false,
   "report_style_numbering": false,
   "user_envs_cfg": false
  },
  "nteract": {
   "version": "0.12.3"
  },
  "widgets": {
   "application/vnd.jupyter.widget-state+json": {
    "046a0a23d1b44b70abf6590bed0e711d": {
     "model_module": "@jupyter-widgets/base",
     "model_module_version": "1.2.0",
     "model_name": "LayoutModel",
     "state": {
      "_model_module": "@jupyter-widgets/base",
      "_model_module_version": "1.2.0",
      "_model_name": "LayoutModel",
      "_view_count": null,
      "_view_module": "@jupyter-widgets/base",
      "_view_module_version": "1.2.0",
      "_view_name": "LayoutView",
      "align_content": null,
      "align_items": null,
      "align_self": null,
      "border": null,
      "bottom": null,
      "display": null,
      "flex": null,
      "flex_flow": null,
      "grid_area": null,
      "grid_auto_columns": null,
      "grid_auto_flow": null,
      "grid_auto_rows": null,
      "grid_column": null,
      "grid_gap": null,
      "grid_row": null,
      "grid_template_areas": null,
      "grid_template_columns": null,
      "grid_template_rows": null,
      "height": "420px",
      "justify_content": null,
      "justify_items": null,
      "left": null,
      "margin": null,
      "max_height": null,
      "max_width": null,
      "min_height": null,
      "min_width": null,
      "object_fit": null,
      "object_position": null,
      "order": null,
      "overflow": null,
      "overflow_x": null,
      "overflow_y": null,
      "padding": null,
      "right": null,
      "top": null,
      "visibility": null,
      "width": null
     }
    },
    "19e3e15563f942398e18221c8b532f67": {
     "model_module": "@jupyter-widgets/base",
     "model_module_version": "1.2.0",
     "model_name": "LayoutModel",
     "state": {
      "_model_module": "@jupyter-widgets/base",
      "_model_module_version": "1.2.0",
      "_model_name": "LayoutModel",
      "_view_count": null,
      "_view_module": "@jupyter-widgets/base",
      "_view_module_version": "1.2.0",
      "_view_name": "LayoutView",
      "align_content": null,
      "align_items": null,
      "align_self": null,
      "border": null,
      "bottom": null,
      "display": null,
      "flex": null,
      "flex_flow": null,
      "grid_area": null,
      "grid_auto_columns": null,
      "grid_auto_flow": null,
      "grid_auto_rows": null,
      "grid_column": null,
      "grid_gap": null,
      "grid_row": null,
      "grid_template_areas": null,
      "grid_template_columns": null,
      "grid_template_rows": null,
      "height": null,
      "justify_content": null,
      "justify_items": null,
      "left": null,
      "margin": null,
      "max_height": null,
      "max_width": null,
      "min_height": null,
      "min_width": null,
      "object_fit": null,
      "object_position": null,
      "order": null,
      "overflow": null,
      "overflow_x": null,
      "overflow_y": null,
      "padding": null,
      "right": null,
      "top": null,
      "visibility": null,
      "width": null
     }
    },
    "29278392c39d472eac383d59f1ecb1a4": {
     "model_module": "@jupyter-widgets/base",
     "model_module_version": "1.2.0",
     "model_name": "LayoutModel",
     "state": {
      "_model_module": "@jupyter-widgets/base",
      "_model_module_version": "1.2.0",
      "_model_name": "LayoutModel",
      "_view_count": null,
      "_view_module": "@jupyter-widgets/base",
      "_view_module_version": "1.2.0",
      "_view_name": "LayoutView",
      "align_content": null,
      "align_items": null,
      "align_self": null,
      "border": null,
      "bottom": null,
      "display": null,
      "flex": null,
      "flex_flow": null,
      "grid_area": null,
      "grid_auto_columns": null,
      "grid_auto_flow": null,
      "grid_auto_rows": null,
      "grid_column": null,
      "grid_gap": null,
      "grid_row": null,
      "grid_template_areas": null,
      "grid_template_columns": null,
      "grid_template_rows": null,
      "height": null,
      "justify_content": null,
      "justify_items": null,
      "left": null,
      "margin": null,
      "max_height": null,
      "max_width": null,
      "min_height": null,
      "min_width": null,
      "object_fit": null,
      "object_position": null,
      "order": null,
      "overflow": null,
      "overflow_x": null,
      "overflow_y": null,
      "padding": null,
      "right": null,
      "top": null,
      "visibility": null,
      "width": null
     }
    },
    "3eaeef19a1ec4cc985949fef96b715dc": {
     "model_module": "jupyter-gmaps",
     "model_module_version": "0.9.0",
     "model_name": "PlainmapModel",
     "state": {
      "_dom_classes": [],
      "_model_module": "jupyter-gmaps",
      "_model_module_version": "0.9.0",
      "_model_name": "PlainmapModel",
      "_view_count": null,
      "_view_module": "jupyter-gmaps",
      "_view_module_version": "0.9.0",
      "_view_name": "PlainmapView",
      "configuration": {
       "api_key": null
      },
      "data_bounds": [
       [
        -43.6612939122995,
        -179.99999
       ],
       [
        85,
        179.99999
       ]
      ],
      "initial_viewport": {
       "type": "DATA_BOUNDS"
      },
      "layers": [
       "IPY_MODEL_83998822da324e8d8579dd815043f6b0"
      ],
      "layout": "IPY_MODEL_9acd6e0cd99b492c83d7458fe516d846",
      "map_type": "HYBRID",
      "mouse_handling": "COOPERATIVE",
      "tilt": 45
     }
    },
    "4dbc01b395bb4af39441826902cff62c": {
     "model_module": "jupyter-gmaps",
     "model_module_version": "0.9.0",
     "model_name": "ToolbarModel",
     "state": {
      "_dom_classes": [],
      "_model_module": "jupyter-gmaps",
      "_model_module_version": "0.9.0",
      "_model_name": "ToolbarModel",
      "_view_count": null,
      "_view_module": "jupyter-gmaps",
      "_view_module_version": "0.9.0",
      "_view_name": "ToolbarView",
      "layer_controls": [],
      "layout": "IPY_MODEL_29278392c39d472eac383d59f1ecb1a4"
     }
    },
    "5658843f1e2b459eaf4ff3097848a0fa": {
     "model_module": "jupyter-gmaps",
     "model_module_version": "0.9.0",
     "model_name": "FigureModel",
     "state": {
      "_dom_classes": [],
      "_errors_box": "IPY_MODEL_91ed9ad34cad46d8889024c1b55f9f9c",
      "_map": "IPY_MODEL_3eaeef19a1ec4cc985949fef96b715dc",
      "_model_module": "jupyter-gmaps",
      "_model_module_version": "0.9.0",
      "_model_name": "FigureModel",
      "_toolbar": "IPY_MODEL_4dbc01b395bb4af39441826902cff62c",
      "_view_count": null,
      "_view_module": "jupyter-gmaps",
      "_view_module_version": "0.9.0",
      "_view_name": "FigureView",
      "layout": "IPY_MODEL_046a0a23d1b44b70abf6590bed0e711d"
     }
    },
    "83998822da324e8d8579dd815043f6b0": {
     "model_module": "jupyter-gmaps",
     "model_module_version": "0.9.0",
     "model_name": "WeightedHeatmapLayerModel",
     "state": {
      "_model_module": "jupyter-gmaps",
      "_model_module_version": "0.9.0",
      "_model_name": "WeightedHeatmapLayerModel",
      "_view_count": null,
      "_view_module": "jupyter-gmaps",
      "_view_module_version": "0.9.0",
      "_view_name": "WeightedHeatmapLayerView",
      "data_bounds": [
       [
        -43.6612939122995,
        -179.99999
       ],
       [
        85,
        179.99999
       ]
      ],
      "dissipating": true,
      "gradient": null,
      "locations": [
       [
        27.9591758,
        -114.056646
       ],
       [
        65.28149379999999,
        -126.8286524
       ],
       [
        -45.5712254,
        -72.068265
       ],
       [
        -34.4092004,
        19.2504436
       ],
       [
        40.955269,
        -76.91733200000002
       ],
       [
        -33.9608369,
        25.6022423
       ],
       [
        -33.6516465,
        115.3473335
       ],
       [
        41.0816892,
        -81.5178317
       ],
       [
        -20.014212,
        57.6694082
       ],
       [
        71.964027,
        102.440613
       ],
       [
        -9.8028605,
        -139.0398069
       ],
       [
        69.445358,
        -133.034181
       ],
       [
        49.348932,
        7.1780408
       ],
       [
        68.742677,
        161.350784
       ],
       [
        60.49545690000001,
        72.20805969999999
       ],
       [
        54.1149482,
        -9.1550693
       ],
       [
        -21.2129007,
        -159.7823059
       ],
       [
        -19.6513424,
        47.3266162
       ],
       [
        61.99411509999999,
        -49.6665709
       ],
       [
        13.5671491,
        -86.02491169999999
       ],
       [
        -33.0198434,
        27.903905
       ],
       [
        -54.8019121,
        -68.3029511
       ],
       [
        40.6098473,
        -122.3584268
       ],
       [
        65.69455599999999,
        82.525613
       ],
       [
        -0.7432918,
        -90.3156893
       ],
       [
        -33.9248685,
        18.4240553
       ],
       [
        -20.3438619,
        57.7636821
       ],
       [
        -0.8761629000000001,
        131.255828
       ],
       [
        5.8901373,
        14.5480484
       ],
       [
        37.7394207,
        -25.6686725
       ],
       [
        -23.1223034,
        -134.9691543
       ],
       [
        69.751221,
        61.66369599999999
       ],
       [
        -6.325178999999999,
        -47.4273023
       ],
       [
        17.091256,
        121.0105733
       ],
       [
        -53.1633845,
        -70.9078263
       ],
       [
        9.0485176,
        -79.5082571
       ],
       [
        52.9258846,
        -82.42889219999999
       ],
       [
        -25.0225309,
        46.9853688
       ],
       [
        -21.1935,
        -175.1751534
       ],
       [
        -37.6080479,
        -73.6514907
       ],
       [
        68.219916,
        -135.007788
       ],
       [
        -46.2858467,
        169.8460662
       ],
       [
        38.9076089,
        -77.07225849999999
       ],
       [
        16.2850333,
        95.67998159999999
       ],
       [
        78.0648475,
        14.2334595
       ],
       [
        17.5656036,
        44.2289441
       ],
       [
        29.5957696,
        -90.71953479999999
       ],
       [
        3.3663183,
        -59.7977761
       ],
       [
        34.1825782,
        -118.4396756
       ],
       [
        -10.0664169,
        -78.1506824
       ],
       [
        1.468675,
        103.739197
       ],
       [
        37.2116383,
        -76.7752102
       ],
       [
        54.108967,
        -3.218894
       ],
       [
        47.3777379,
        -61.8713553
       ],
       [
        78.22317220000001,
        15.626723
       ],
       [
        36.6777372,
        -121.6555013
       ],
       [
        50.0212524,
        -66.8760025
       ],
       [
        36.9751199,
        38.424287
       ],
       [
        -6.9889961,
        106.5523635
       ],
       [
        22.0947394,
        -159.3245926
       ],
       [
        -25.2749468,
        27.2404211
       ],
       [
        -38.0054771,
        -57.5426106
       ],
       [
        -34.5385222,
        20.0568771
       ],
       [
        34.0812288,
        -118.3853088
       ],
       [
        -33.5864065,
        26.8851448
       ],
       [
        48.881683,
        -72.2321139
       ],
       [
        29.040621,
        21.4991334
       ],
       [
        -30.1768565,
        -50.2089209
       ],
       [
        38.4862899,
        106.23245
       ],
       [
        72.7862881,
        -56.1375527
       ],
       [
        51.3812676,
        11.6041294
       ],
       [
        44.0624879,
        -103.1462899
       ],
       [
        15.9930494,
        73.6844721
       ],
       [
        37.7157269,
        -25.4345063
       ],
       [
        22.6764132,
        -3.9789143
       ],
       [
        37.8210369,
        -25.5148137
       ],
       [
        -0.6094628,
        73.0907
       ],
       [
        -34.7226381,
        135.8597449
       ],
       [
        -15.7783483,
        128.7439001
       ],
       [
        17.9757058,
        102.6331035
       ],
       [
        66.5619233,
        67.80145399999999
       ],
       [
        58.96619399999999,
        -3.296495
       ],
       [
        64.89604849999999,
        -23.7060263
       ],
       [
        -46.1939524,
        168.8654783
       ],
       [
        64.8400511,
        -147.7199756
       ],
       [
        68.878911,
        35.6675264
       ],
       [
        73.507735,
        80.53103019999999
       ],
       [
        9.498579999999999,
        50.8105261
       ],
       [
        42.6525793,
        -73.7562317
       ],
       [
        39.5238734,
        54.3360001
       ],
       [
        -42.8826055,
        147.3257196
       ],
       [
        -28.7761346,
        114.611295
       ],
       [
        7.040244599999999,
        134.256193
       ],
       [
        -7.652817700000001,
        -40.1491036
       ],
       [
        32.2982314,
        69.59762400000001
       ],
       [
        -42.781144,
        147.0622665
       ],
       [
        40.9098215,
        -73.8079111
       ],
       [
        0.7573413,
        73.43422699999999
       ],
       [
        -0.9031235,
        -89.61089419999999
       ],
       [
        -9.1522423,
        25.8285153
       ],
       [
        -7.0402944,
        -34.8430206
       ],
       [
        16.216018,
        77.3565608
       ],
       [
        65.58354899999999,
        -171.038925
       ],
       [
        3.1166667,
        172.8
       ],
       [
        37.4954732,
        141.0017195
       ],
       [
        -25.3168473,
        45.48630929999999
       ],
       [
        64.89734659999999,
        45.76517339999999
       ],
       [
        20.4634375,
        122.004179
       ],
       [
        -22.9667613,
        -42.0277716
       ],
       [
        33.307049,
        62.136421
       ],
       [
        58.3615767,
        82.8403008
       ],
       [
        66.1517719,
        -23.261709
       ],
       [
        55.7451003,
        -97.8509232
       ],
       [
        -17.96182,
        122.236998
       ],
       [
        -41.1380517,
        174.8472141
       ],
       [
        32.6854883,
        -17.0864266
       ],
       [
        70.622169,
        147.916168
       ],
       [
        37.4635519,
        -122.4285862
       ],
       [
        48.74939269999999,
        30.2214499
       ],
       [
        35.125801,
        -117.9859038
       ],
       [
        40.5981867,
        -124.1572756
       ],
       [
        8.4540957,
        36.3552268
       ],
       [
        36.6172899,
        101.77782
       ],
       [
        62.4539717,
        -114.3717886
       ],
       [
        -45.41442929999999,
        167.7180426
       ],
       [
        -26.6420382,
        15.1639082
       ],
       [
        33.5427189,
        -117.7853568
       ],
       [
        44.893626,
        1.478613
       ],
       [
        -1.0381022,
        135.9800848
       ],
       [
        -3.792845099999999,
        102.2607641
       ],
       [
        70.070114,
        83.230835
       ],
       [
        -29.9205768,
        31.003386
       ],
       [
        29.8975881,
        69.2490136
       ],
       [
        40.3456879,
        -1.1064345
       ],
       [
        36.6177374,
        -121.9166215
       ],
       [
        26.2445263,
        -80.206436
       ],
       [
        31.3543445,
        27.2373159
       ],
       [
        -22.0060858,
        148.0398332
       ],
       [
        40.7515497,
        -73.9869104
       ],
       [
        -21.3595223,
        55.7665126
       ],
       [
        59.1974514,
        37.1497941
       ],
       [
        -8.1058258,
        156.8349986
       ],
       [
        50.854259,
        0.573453
       ],
       [
        -9.1064894,
        124.8987786
       ],
       [
        -33.8613953,
        121.8912724
       ],
       [
        19.7216023,
        -155.084887
       ],
       [
        44.349389,
        2.575986
       ],
       [
        -3.906286399999999,
        -38.3874738
       ],
       [
        -8.854053,
        121.654198
       ],
       [
        -5.9577654,
        -36.655034
       ],
       [
        7.3491464,
        80.6853986
       ],
       [
        67.66251299999999,
        134.65435
       ],
       [
        41.7264299,
        86.1736899
       ],
       [
        51.262486,
        -80.59296499999999
       ],
       [
        -33.692754,
        -53.4552817
       ],
       [
        50.7207083,
        -127.4968729
       ],
       [
        56.7437998,
        15.9086806
       ],
       [
        62.2271922,
        -6.5779063
       ],
       [
        5.5482904,
        95.3237559
       ],
       [
        18.1087064,
        82.1087901
       ],
       [
        35.4281164,
        133.3309966
       ],
       [
        -23.7627286,
        -53.3119989
       ],
       [
        -18.9176861,
        -54.8473377
       ],
       [
        45.0070483,
        43.7775557
       ],
       [
        -13.2026069,
        49.0514094
       ],
       [
        -4.8824092,
        29.6615055
       ],
       [
        21.3446347,
        -158.0865948
       ],
       [
        14.8951679,
        -24.4945636
       ],
       [
        -46.1315913,
        167.6896869
       ],
       [
        66.9394722,
        -53.6733857
       ],
       [
        16.9741689,
        7.986535
       ],
       [
        52.4930211,
        39.9565673
       ],
       [
        50.4619209,
        -3.525315
       ],
       [
        -43.2998581,
        -65.09948729999999
       ],
       [
        -17.7336523,
        -39.265271
       ],
       [
        -23.1335258,
        150.7374455
       ],
       [
        26.5675599,
        107.9804
       ],
       [
        22.5428599,
        114.05956
       ],
       [
        47.5820518,
        -53.2798524
       ],
       [
        68.549671,
        146.232876
       ],
       [
        34.6786322,
        33.0413055
       ],
       [
        35.6044999,
        103.24317
       ],
       [
        55.3362967,
        42.4197788
       ],
       [
        70.48556909999999,
        -21.9628756
       ],
       [
        27.9276542,
        96.1533094
       ],
       [
        -24.5141177,
        23.9313421
       ],
       [
        -22.2734912,
        166.4480887
       ],
       [
        69.7029321,
        170.3070329
       ],
       [
        20.8893016,
        -156.4728725
       ],
       [
        -22.0886778,
        -70.1960541
       ],
       [
        -24.8838363,
        113.6570584
       ],
       [
        17.6724247,
        -97.57204809999999
       ],
       [
        10.3956993,
        79.4949884
       ],
       [
        44.7748748,
        -117.8343848
       ],
       [
        -30.7781755,
        28.9528645
       ],
       [
        39.1637984,
        -119.7674034
       ],
       [
        54.2334148,
        -125.763613
       ],
       [
        -4.581151999999999,
        -81.26289609999999
       ],
       [
        -35.1713175,
        173.1533354
       ],
       [
        12.7854969,
        45.0186548
       ],
       [
        39.4101171,
        -74.3645906
       ],
       [
        67.55011859999999,
        63.7827838
       ],
       [
        13.8221849,
        102.0660435
       ],
       [
        -2.0298424,
        147.2743657
       ],
       [
        52.2857575,
        85.4136532
       ],
       [
        -15.1978317,
        12.1575544
       ],
       [
        42.12922409999999,
        -80.085059
       ],
       [
        13.1057062,
        109.295048
       ],
       [
        36.8578709,
        -119.712578
       ],
       [
        -12.927875,
        -46.9448089
       ],
       [
        16.4851482,
        -85.85630069999999
       ],
       [
        45.8486646,
        -66.481286
       ],
       [
        -20.2888094,
        57.78141199999999
       ],
       [
        15.7521513,
        75.1253492
       ],
       [
        -10.6120235,
        150.6640758
       ],
       [
        57.79000000000001,
        -152.4072222
       ],
       [
        22.9664576,
        97.7525352
       ],
       [
        6.032894799999999,
        80.2167912
       ],
       [
        22.8905327,
        -109.9167371
       ],
       [
        54.0152604,
        -9.4289369
       ],
       [
        -7.476732699999999,
        178.6747675
       ],
       [
        -8.889756799999999,
        -35.151541
       ],
       [
        44.724837,
        17.3220709
       ],
       [
        39.8212699,
        109.96144
       ],
       [
        62.5748112,
        11.3841068
       ],
       [
        68.8931114,
        -179.4125967
       ],
       [
        -0.7351025999999999,
        8.7591311
       ],
       [
        33.4488792,
        -112.092514
       ],
       [
        -11.7619227,
        130.6317972
       ],
       [
        -16.4867378,
        -151.7429125
       ],
       [
        29.693392,
        -9.732156999999999
       ],
       [
        -27.3863909,
        -56.8479781
       ],
       [
        6.1428829,
        81.12123079999999
       ],
       [
        -3.6386665,
        128.1688559
       ],
       [
        -1.7607276,
        -55.8629258
       ],
       [
        34.6796171,
        138.9451459
       ],
       [
        30.5505524,
        79.56596329999999
       ],
       [
        59.0535405,
        80.8770601
       ],
       [
        71.450058,
        136.1122279
       ],
       [
        50.1437707,
        48.5494505
       ],
       [
        27.0365406,
        14.4290236
       ],
       [
        10.9804603,
        108.2614775
       ],
       [
        41.0123174,
        -75.1107332
       ],
       [
        -38.5544968,
        -58.73960879999999
       ],
       [
        -10.005581,
        -42.4940119
       ],
       [
        -20.7336955,
        116.8447057
       ],
       [
        1.175333,
        108.970398
       ],
       [
        47.4956579,
        -121.7867775
       ],
       [
        69.31607989999999,
        16.1202284
       ],
       [
        -9.6660417,
        -35.7352167
       ],
       [
        58.60767269999999,
        99.1779092
       ],
       [
        -19.811431,
        -174.3502613
       ],
       [
        -2.759,
        -42.8236208
       ],
       [
        -41.0522881,
        145.904988
       ],
       [
        2.7722364,
        27.6082774
       ],
       [
        48.9489967,
        -57.95027260000001
       ],
       [
        17.9236623,
        19.1107114
       ],
       [
        -25.1694494,
        45.0606557
       ],
       [
        71.63748199999999,
        128.8644716
       ],
       [
        63.74669300000001,
        -68.5169669
       ],
       [
        -37.8777465,
        147.9941435
       ],
       [
        64.4031643,
        -173.2064559
       ],
       [
        -5.5622396,
        -80.8187744
       ],
       [
        -20.2320314,
        164.0238768
       ],
       [
        48.6533449,
        -53.11182489999999
       ],
       [
        69.36833299999999,
        178.416667
       ],
       [
        -20.4059505,
        57.7034222
       ],
       [
        63.437679,
        -20.267321
       ],
       [
        -5.2600405,
        -44.64450739999999
       ],
       [
        9.5488889,
        -79.6530174
       ],
       [
        63.0611249,
        179.3485395
       ],
       [
        -12.7819879,
        45.2564226
       ],
       [
        46.7758459,
        -56.1806363
       ],
       [
        -19.8381858,
        46.8567756
       ],
       [
        71.0357069,
        27.848941
       ],
       [
        40.72969990000001,
        -73.98881349999999
       ],
       [
        16.7369928,
        -92.63759879999999
       ],
       [
        56.0487523,
        97.63058439999999
       ],
       [
        17.6469953,
        95.4515725
       ],
       [
        46.4399466,
        26.400959
       ],
       [
        25.2854473,
        51.53103979999999
       ],
       [
        16.2511278,
        -61.2740105
       ],
       [
        18.8320729,
        36.8304102
       ],
       [
        40.8228672,
        -75.9068667
       ],
       [
        67.43730699999999,
        153.728674
       ],
       [
        12.5073384,
        39.5200688
       ],
       [
        70.47636500000002,
        -68.601265
       ],
       [
        62.65640789999999,
        135.5539801
       ],
       [
        11.283333,
        -15.833333
       ],
       [
        -8.4348912,
        114.3192179
       ],
       [
        -37.6869653,
        176.1654272
       ],
       [
        39.7325499,
        98.49394
       ],
       [
        66.75206399999999,
        123.394112
       ],
       [
        -33.9843356,
        24.732102
       ],
       [
        61.9829131,
        5.1351058
       ],
       [
        26.3592309,
        43.98181200000001
       ],
       [
        43.9676803,
        133.0547021
       ],
       [
        39.9997999,
        124.35601
       ],
       [
        42.0096857,
        -4.5288016
       ],
       [
        5.7872343,
        0.8913523
       ],
       [
        -16.5066392,
        -151.751464
       ],
       [
        34.9530337,
        -120.4357191
       ],
       [
        40.1274545,
        63.45670919999999
       ],
       [
        30.4277547,
        -9.5981072
       ],
       [
        59.84999999999999,
        56.316667
       ],
       [
        -3.4426092,
        10.6562606
       ],
       [
        18.4338645,
        -68.9658817
       ],
       [
        64.24970259999999,
        -15.2020076
       ],
       [
        17.0193843,
        54.11075049999999
       ],
       [
        3.756783299999999,
        72.9689398
       ],
       [
        -13.4482906,
        -172.3367114
       ],
       [
        -33.0276981,
        17.9176312
       ],
       [
        6.1899117,
        -67.48256959999999
       ],
       [
        50.7180855,
        136.6376379
       ],
       [
        77.4670434,
        -69.2284828
       ],
       [
        37.67747689999999,
        -113.0618931
       ],
       [
        48.9755228,
        140.2653547
       ],
       [
        -3.3168087,
        17.3789697
       ],
       [
        53.1435348,
        132.891848
       ],
       [
        -20.3518079,
        -40.3079697
       ],
       [
        39.4752765,
        -6.3724247
       ],
       [
        46.6652838,
        113.2876804
       ],
       [
        68.05359949999999,
        166.448224
       ],
       [
        14.3489479,
        -3.609117
       ],
       [
        -20.0769637,
        146.2601362
       ],
       [
        -6.222221999999999,
        -57.75631370000001
       ],
       [
        65.6134561,
        -37.6335696
       ],
       [
        69.2198118,
        -51.0986032
       ],
       [
        -14.4054009,
        -56.4335262
       ],
       [
        51.5678275,
        139.8454308
       ],
       [
        39.047336,
        28.658544
       ],
       [
        29.1617805,
        16.1358771
       ],
       [
        57.995662,
        114.261575
       ],
       [
        42.8185499,
        93.5153799
       ],
       [
        70.9976392,
        24.6639648
       ],
       [
        38.52742569999999,
        22.2033742
       ],
       [
        70.3706399,
        31.1095471
       ],
       [
        60.38333299999999,
        134.45
       ],
       [
        5.3515922,
        48.5249751
       ],
       [
        2.331899,
        -72.62812699999999
       ],
       [
        36.2082943,
        -115.9839147
       ],
       [
        -5.200110500000001,
        -35.4590878
       ],
       [
        4.8665091,
        -2.240888
       ],
       [
        -4.8219056,
        122.7208336
       ],
       [
        47.8423282,
        -83.40261079999999
       ],
       [
        -29.465303,
        149.8415676
       ],
       [
        38.4361809,
        57.42878990000001
       ],
       [
        29.4251905,
        -98.4945922
       ],
       [
        -17.5391608,
        -149.3714069
       ],
       [
        7.364184199999999,
        134.5360667
       ],
       [
        49.7670416,
        -94.4893924
       ],
       [
        28.0174403,
        -0.2642497
       ],
       [
        21.4373517,
        -157.829592
       ],
       [
        16.8765457,
        -24.9813499
       ],
       [
        -19.0553711,
        -169.9178709
       ],
       [
        32.1194242,
        20.0867909
       ],
       [
        35.1522272,
        140.3208833
       ],
       [
        12.22563,
        125.481201
       ],
       [
        41.0753542,
        14.2715733
       ],
       [
        8.4084158,
        48.4837239
       ],
       [
        49.4648434,
        105.9745919
       ],
       [
        20.9425179,
        -17.0362272
       ],
       [
        56.1060907,
        38.1392419
       ],
       [
        -20.3123929,
        118.6093685
       ],
       [
        10.6840053,
        122.9563021
       ],
       [
        -9.8975064,
        -76.9398195
       ],
       [
        52.7879715,
        131.7135751
       ],
       [
        51.8786,
        17.01215
       ],
       [
        -32.4935661,
        137.7743496
       ],
       [
        15.5121868,
        -12.8486076
       ],
       [
        -20.2904186,
        44.2999955
       ],
       [
        -14.0056774,
        -171.4299586
       ],
       [
        -2.8979192,
        -40.11921770000001
       ],
       [
        71.954308,
        114.119835
       ],
       [
        -2.6987528,
        29.0081662
       ],
       [
        45.515232,
        -122.6783853
       ],
       [
        -14.0287893,
        -171.4327056
       ],
       [
        21.0508574,
        -89.0738791
       ],
       [
        51.1526271,
        37.88823379999999
       ],
       [
        57.304527,
        88.17174899999999
       ],
       [
        31.6660775,
        38.6634693
       ],
       [
        -33.7313897,
        -70.742431
       ],
       [
        -27.7833574,
        -64.264167
       ],
       [
        -38.7106363,
        -73.1625481
       ],
       [
        32.8896299,
        115.81495
       ],
       [
        48.4284207,
        -123.3656444
       ],
       [
        45.421902,
        18.8565121
       ],
       [
        61.6833669,
        96.3806202
       ],
       [
        -17.8502636,
        36.9218584
       ],
       [
        46.4083362,
        -105.8405582
       ],
       [
        37.566535,
        126.9779692
       ],
       [
        1.4441146,
        -52.0215415
       ],
       [
        11.4470564,
        77.6839768
       ],
       [
        24.6698814,
        -81.2546366
       ],
       [
        55.9313985,
        39.45747009999999
       ],
       [
        26.8772099,
        100.2254899
       ],
       [
        -8.8146556,
        13.2301756
       ],
       [
        15.7489259,
        -96.4672856
       ],
       [
        -12.0463731,
        -77.042754
       ],
       [
        -7.903535900000001,
        -78.5646656
       ],
       [
        40.78448849999999,
        -73.9777295
       ],
       [
        -17.8470784,
        -149.2677076
       ],
       [
        55.34222219999999,
        -131.6461111
       ],
       [
        38.440429,
        -122.7140548
       ],
       [
        60.3743682,
        93.0293925
       ],
       [
        29.28892179999999,
        82.3017728
       ],
       [
        66.407021,
        112.2977808
       ],
       [
        59.87924270000001,
        8.6117346
       ],
       [
        21.3876594,
        -158.1520983
       ],
       [
        44.36678759999999,
        -100.3537522
       ],
       [
        4.427919699999999,
        -7.357057599999999
       ],
       [
        24.7135517,
        46.6752957
       ],
       [
        14.716677,
        -17.4676861
       ],
       [
        48.9415997,
        -125.5463445
       ],
       [
        57.05321929999999,
        -135.3345513
       ],
       [
        -28.016667,
        153.4
       ],
       [
        30.4626712,
        -84.2822265
       ],
       [
        -37.3287999,
        -59.1367167
       ],
       [
        53.50858299999999,
        142.96743
       ],
       [
        60.1424955,
        -45.239495
       ],
       [
        45.04929910000001,
        36.1838295
       ],
       [
        -30.7276956,
        30.447285
       ],
       [
        63.0161939,
        112.4687219
       ],
       [
        37.1930207,
        10.1983431
       ],
       [
        -13.3436344,
        -176.2171202
       ],
       [
        48.5913626,
        39.5168146
       ],
       [
        65.767376,
        150.841238
       ],
       [
        1.553504,
        110.3592927
       ],
       [
        25.2940819,
        32.5476845
       ],
       [
        51.478916,
        156.525864
       ],
       [
        37.2223653,
        -5.314171399999999
       ],
       [
        -28.5597111,
        16.4346979
       ],
       [
        4.92242,
        -52.3134531
       ],
       [
        -2.6896767,
        141.2998457
       ],
       [
        -15.8916202,
        -52.2618826
       ],
       [
        41.16177150000001,
        -8.035514
       ],
       [
        42.0812026,
        -88.0726905
       ],
       [
        -25.406494,
        -70.4803027
       ],
       [
        68.8219742,
        -51.1817887
       ],
       [
        60.9700587,
        9.2948829
       ],
       [
        49.2945857,
        21.2754012
       ],
       [
        32.8142603,
        73.8830701
       ],
       [
        56.1676217,
        107.4356276
       ],
       [
        44.3806065,
        -73.227626
       ],
       [
        -29.9590009,
        -71.3389183
       ],
       [
        -2.5781167,
        150.8086082
       ],
       [
        32.2206958,
        -98.2022633
       ],
       [
        65.077429,
        35.6383004
       ],
       [
        19.2869323,
        -81.3674389
       ],
       [
        47.6739881,
        -122.121512
       ],
       [
        54.1544513,
        22.7602705
       ],
       [
        69.30260299999999,
        139.958383
       ],
       [
        -35.5502959,
        138.620909
       ],
       [
        49.1857199,
        125.22094
       ],
       [
        66.1465578,
        -65.7012182
       ],
       [
        57.03088529999999,
        29.3324625
       ],
       [
        65.98442829999999,
        60.32114929999999
       ],
       [
        11.2403547,
        -74.2110227
       ],
       [
        63.2803099,
        118.3618985
       ],
       [
        34.1525864,
        77.57705349999999
       ],
       [
        7.414383099999999,
        81.8306334
       ],
       [
        59.530033,
        45.45559350000001
       ],
       [
        25.50011,
        -76.6340511
       ],
       [
        62.847787,
        34.8257603
       ],
       [
        37.5407246,
        -77.4360481
       ],
       [
        9.5842052,
        118.4163103
       ],
       [
        51.8666667,
        1.2833333
       ],
       [
        47.086965,
        81.6315231
       ],
       [
        43.4696366,
        -111.9666355
       ],
       [
        53.574846,
        52.8129
       ],
       [
        13.8877209,
        -87.70371349999999
       ],
       [
        13.5668258,
        -2.4109908
       ],
       [
        19.9348887,
        -72.8308692
       ],
       [
        -36.161092,
        174.4433105
       ],
       [
        4.9015794,
        -1.7830973
       ],
       [
        -35.0253003,
        138.5699562
       ],
       [
        35.1677541,
        47.8009743
       ],
       [
        47.9795218,
        91.634756
       ],
       [
        26.7500171,
        33.9359756
       ],
       [
        41.4901024,
        -71.3128285
       ],
       [
        36.0395247,
        -114.9817213
       ],
       [
        55.045091,
        21.6727057
       ],
       [
        67.6766098,
        53.1295176
       ],
       [
        43.8266299,
        87.61688
       ],
       [
        67.5505925,
        133.3993399
       ],
       [
        37.3904768,
        136.8992581
       ],
       [
        14.4393538,
        -11.4467369
       ],
       [
        55.96446049999999,
        43.0643055
       ],
       [
        41.6060873,
        -93.77235999999999
       ],
       [
        48.1978826,
        41.2729912
       ],
       [
        11.2854783,
        51.0762536
       ],
       [
        -13.3852505,
        -44.2015972
       ],
       [
        34.6391501,
        -120.4579409
       ],
       [
        46.0728199,
        122.0931599
       ],
       [
        34.2804923,
        -119.2945199
       ],
       [
        -16.4089164,
        -67.5276414
       ],
       [
        61.0162875,
        35.485856
       ],
       [
        52.26007329999999,
        43.7814352
       ],
       [
        53.0583997,
        158.6320734
       ],
       [
        12.9028236,
        31.2282958
       ],
       [
        39.2075584,
        -8.625918799999999
       ],
       [
        37.754104,
        39.317716
       ],
       [
        -23.8662153,
        35.3826756
       ],
       [
        53.763105,
        16.100159
       ],
       [
        -38.6747706,
        177.9105052
       ],
       [
        -23.698042,
        133.8807471
       ],
       [
        39.88983820000001,
        32.780086
       ],
       [
        50.0978321,
        -91.922038
       ],
       [
        -9.987607599999999,
        39.6982485
       ],
       [
        -25.237979,
        130.9856199
       ],
       [
        16.321939,
        121.692299
       ],
       [
        10.3059966,
        9.840395899999999
       ],
       [
        -23.6509279,
        -70.39750219999999
       ],
       [
        33.7241203,
        135.9924819
       ],
       [
        20.2573532,
        0.9910297999999998
       ],
       [
        50.0290218,
        -110.7031976
       ],
       [
        -13.2325565,
        30.2339635
       ],
       [
        52.14093889999999,
        -10.2640136
       ],
       [
        -16.1001798,
        167.4164063
       ],
       [
        -9.6646545,
        120.2498483
       ],
       [
        67.43708,
        32.745888
       ],
       [
        -22.0853991,
        -65.5975218
       ],
       [
        -19.54172,
        169.2803499
       ],
       [
        36.9441406,
        30.8333348
       ],
       [
        15.6141768,
        -16.22868
       ],
       [
        16.0765691,
        97.58431709999999
       ],
       [
        41.10713990000001,
        120.7498499
       ],
       [
        -7.9920228,
        -34.8422297
       ],
       [
        7.768713799999999,
        100.2824483
       ],
       [
        2.287284,
        111.830535
       ],
       [
        -17.2409282,
        -67.91063179999999
       ],
       [
        -28.6419122,
        153.6105168
       ],
       [
        4.1436951,
        96.12811459999999
       ],
       [
        49.4129509,
        75.4772753
       ],
       [
        3.1660209,
        -52.34138189999999
       ],
       [
        52.4079324,
        49.9534919
       ],
       [
        56.2142024,
        42.2006238
       ],
       [
        28.0197404,
        -82.7717684
       ],
       [
        26.3960774,
        127.7444117
       ],
       [
        0.6116136999999999,
        -80.02065499999999
       ],
       [
        54.9394562,
        20.1584705
       ],
       [
        38.7339162,
        -27.0646976
       ],
       [
        64.7336613,
        177.4968266
       ],
       [
        51.8204945,
        68.3636926
       ],
       [
        60.9129622,
        -46.050483
       ],
       [
        12.7878653,
        -85.1233
       ],
       [
        42.9849413,
        144.381804
       ],
       [
        -13.5940691,
        24.200412
       ],
       [
        -30.982372,
        -64.4970309
       ],
       [
        49.5965499,
        117.37836
       ],
       [
        19.6640624,
        78.5320107
       ],
       [
        57.37208259999999,
        61.37938579999999
       ],
       [
        60.39685199999999,
        -1.3541129
       ],
       [
        4.1228001,
        43.88880959999999
       ],
       [
        62.4854563,
        17.3248651
       ],
       [
        11.3800543,
        -72.2422465
       ],
       [
        29.868336,
        121.54399
       ],
       [
        8.5873638,
        81.2152121
       ],
       [
        30.2572057,
        -97.6819854
       ],
       [
        69.5,
        88.39999999999999
       ],
       [
        10.4113797,
        107.136224
       ],
       [
        43.6430499,
        111.95238
       ],
       [
        34.1781719,
        -82.3790147
       ],
       [
        45.7640559,
        62.0999125
       ]
      ],
      "max_intensity": 100,
      "opacity": 0.6,
      "point_radius": 30,
      "weights": [
       57,
       49,
       52,
       78,
       51,
       87,
       76,
       62,
       68,
       73,
       68,
       63,
       16,
       96,
       65,
       83,
       73,
       90,
       89,
       68,
       72,
       57,
       27,
       58,
       78,
       85,
       73,
       86,
       94,
       88,
       72,
       94,
       24,
       97,
       80,
       73,
       42,
       78,
       94,
       59,
       60,
       75,
       50,
       95,
       92,
       69,
       83,
       65,
       52,
       68,
       94,
       57,
       65,
       65,
       94,
       60,
       93,
       29,
       91,
       74,
       44,
       77,
       90,
       62,
       79,
       72,
       25,
       79,
       62,
       68,
       32,
       26,
       90,
       81,
       17,
       88,
       66,
       79,
       88,
       94,
       80,
       79,
       69,
       90,
       57,
       90,
       100,
       80,
       46,
       21,
       81,
       93,
       73,
       73,
       63,
       67,
       49,
       72,
       61,
       31,
       74,
       78,
       82,
       75,
       96,
       65,
       75,
       76,
       73,
       20,
       78,
       72,
       39,
       83,
       86,
       75,
       75,
       67,
       84,
       26,
       71,
       98,
       91,
       45,
       85,
       78,
       75,
       40,
       88,
       90,
       69,
       82,
       55,
       53,
       78,
       64,
       74,
       82,
       50,
       81,
       77,
       74,
       60,
       89,
       78,
       68,
       37,
       71,
       77,
       62,
       91,
       80,
       30,
       46,
       95,
       77,
       70,
       81,
       72,
       92,
       94,
       34,
       16,
       32,
       73,
       55,
       63,
       83,
       75,
       88,
       34,
       75,
       59,
       39,
       60,
       94,
       96,
       95,
       72,
       67,
       78,
       89,
       72,
       80,
       96,
       40,
       99,
       96,
       57,
       71,
       56,
       27,
       81,
       24,
       64,
       25,
       76,
       69,
       89,
       66,
       64,
       86,
       95,
       81,
       78,
       87,
       87,
       83,
       29,
       19,
       77,
       57,
       73,
       91,
       86,
       77,
       99,
       82,
       62,
       78,
       80,
       74,
       45,
       81,
       67,
       98,
       76,
       52,
       93,
       77,
       52,
       84,
       76,
       15,
       39,
       93,
       94,
       71,
       72,
       28,
       18,
       89,
       48,
       54,
       46,
       44,
       88,
       81,
       82,
       65,
       98,
       88,
       64,
       92,
       98,
       45,
       15,
       63,
       71,
       87,
       70,
       83,
       60,
       84,
       88,
       99,
       73,
       58,
       42,
       78,
       68,
       78,
       88,
       73,
       93,
       50,
       45,
       95,
       96,
       77,
       75,
       100,
       43,
       48,
       76,
       78,
       93,
       85,
       83,
       88,
       93,
       29,
       61,
       91,
       73,
       21,
       99,
       98,
       46,
       80,
       77,
       54,
       22,
       50,
       78,
       90,
       62,
       67,
       100,
       80,
       87,
       80,
       65,
       98,
       61,
       29,
       100,
       37,
       98,
       73,
       17,
       72,
       89,
       46,
       97,
       26,
       85,
       100,
       15,
       98,
       65,
       21,
       77,
       18,
       95,
       43,
       88,
       80,
       83,
       76,
       40,
       74,
       77,
       88,
       52,
       94,
       21,
       36,
       80,
       94,
       49,
       11,
       71,
       65,
       73,
       68,
       92,
       92,
       84,
       42,
       82,
       83,
       59,
       82,
       85,
       51,
       96,
       51,
       75,
       44,
       79,
       82,
       62,
       72,
       63,
       60,
       81,
       35,
       84,
       94,
       26,
       46,
       37,
       73,
       83,
       61,
       41,
       95,
       83,
       12,
       97,
       41,
       91,
       75,
       63,
       94,
       83,
       63,
       77,
       53,
       48,
       79,
       63,
       52,
       98,
       94,
       93,
       83,
       59,
       36,
       76,
       22,
       79,
       85,
       77,
       92,
       65,
       40,
       97,
       88,
       69,
       86,
       92,
       70,
       76,
       81,
       90,
       88,
       17,
       90,
       39,
       86,
       33,
       90,
       28,
       50,
       75,
       57,
       98,
       89,
       60,
       81,
       88,
       81,
       59,
       78,
       29,
       86,
       62,
       83,
       70,
       79,
       90,
       98,
       76,
       76,
       61,
       73,
       94,
       37,
       67,
       81,
       72,
       70,
       52,
       88,
       75,
       59,
       29,
       58,
       47,
       62,
       68,
       90,
       74,
       84,
       15,
       45,
       52,
       63,
       41,
       76,
       71,
       36,
       76,
       88,
       64,
       74,
       45,
       38,
       67,
       24,
       47,
       82,
       65,
       50,
       70,
       59,
       100,
       60,
       68,
       22,
       88,
       36,
       79,
       66,
       71,
       59,
       86,
       40,
       100,
       71,
       69,
       90,
       10,
       25,
       50,
       70,
       82,
       77,
       96,
       3,
       94,
       84,
       68,
       88,
       93,
       73,
       81,
       94,
       27,
       90,
       75,
       52,
       66,
       50,
       64,
       53,
       89,
       81,
       64,
       88,
       93,
       60,
       89,
       93,
       94,
       32,
       41,
       78,
       92,
       77,
       73,
       50,
       56,
       49,
       74,
       78,
       38,
       75,
       86,
       59,
       62,
       54
      ]
     }
    },
    "91ed9ad34cad46d8889024c1b55f9f9c": {
     "model_module": "jupyter-gmaps",
     "model_module_version": "0.9.0",
     "model_name": "ErrorsBoxModel",
     "state": {
      "_dom_classes": [],
      "_model_module": "jupyter-gmaps",
      "_model_module_version": "0.9.0",
      "_model_name": "ErrorsBoxModel",
      "_view_count": null,
      "_view_module": "jupyter-gmaps",
      "_view_module_version": "0.9.0",
      "_view_name": "ErrorsBoxView",
      "errors": [],
      "layout": "IPY_MODEL_19e3e15563f942398e18221c8b532f67"
     }
    },
    "9acd6e0cd99b492c83d7458fe516d846": {
     "model_module": "@jupyter-widgets/base",
     "model_module_version": "1.2.0",
     "model_name": "LayoutModel",
     "state": {
      "_model_module": "@jupyter-widgets/base",
      "_model_module_version": "1.2.0",
      "_model_name": "LayoutModel",
      "_view_count": null,
      "_view_module": "@jupyter-widgets/base",
      "_view_module_version": "1.2.0",
      "_view_name": "LayoutView",
      "align_content": null,
      "align_items": null,
      "align_self": null,
      "border": null,
      "bottom": null,
      "display": null,
      "flex": null,
      "flex_flow": null,
      "grid_area": null,
      "grid_auto_columns": null,
      "grid_auto_flow": null,
      "grid_auto_rows": null,
      "grid_column": null,
      "grid_gap": null,
      "grid_row": null,
      "grid_template_areas": null,
      "grid_template_columns": null,
      "grid_template_rows": null,
      "height": "100%",
      "justify_content": null,
      "justify_items": null,
      "left": null,
      "margin": null,
      "max_height": null,
      "max_width": null,
      "min_height": null,
      "min_width": null,
      "object_fit": null,
      "object_position": null,
      "order": null,
      "overflow": null,
      "overflow_x": null,
      "overflow_y": null,
      "padding": null,
      "right": null,
      "top": null,
      "visibility": null,
      "width": "100%"
     }
    }
   }
  }
 },
 "nbformat": 4,
 "nbformat_minor": 1
}
